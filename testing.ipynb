{
 "cells": [
  {
   "cell_type": "code",
   "execution_count": 1,
   "metadata": {
    "collapsed": true
   },
   "outputs": [],
   "source": [
    "from modules.vit import ViT\n",
    "from torchinfo import summary"
   ]
  },
  {
   "cell_type": "code",
   "execution_count": 2,
   "metadata": {},
   "outputs": [],
   "source": [
    "from modules.layers import *\n",
    "\n",
    "from modules.patch_embedding import *"
   ]
  },
  {
   "cell_type": "code",
   "execution_count": 3,
   "metadata": {
    "collapsed": false,
    "pycharm": {
     "name": "#%%\n"
    }
   },
   "outputs": [
    {
     "name": "stderr",
     "output_type": "stream",
     "text": [
      "c:\\Users\\damig\\anaconda3\\envs\\pracownia_naukowa\\lib\\site-packages\\torch\\nn\\modules\\module.py:1518: UserWarning: Implicit dimension choice for softmax has been deprecated. Change the call to include dim=X as an argument.\n",
      "  return self._call_impl(*args, **kwargs)\n"
     ]
    },
    {
     "data": {
      "text/plain": [
       "====================================================================================================\n",
       "Layer (type:depth-idx)                             Output Shape              Param #\n",
       "====================================================================================================\n",
       "ViT                                                [16, 10]                  2,112\n",
       "├─PatchEmbedding: 1-1                              [16, 64, 32]              --\n",
       "│    └─Sequential: 2-1                             [16, 64, 32]              --\n",
       "│    │    └─Rearrange: 3-1                         [16, 64, 48]              --\n",
       "│    │    └─Linear: 3-2                            [16, 64, 32]              1,568\n",
       "├─ModuleList: 1-2                                  --                        --\n",
       "│    └─EncoderLayer: 2-2                           [16, 65, 32]              --\n",
       "│    │    └─MultiHeadSelfAttentionBlock: 3-3       [16, 65, 32]              4,288\n",
       "│    │    └─Dropout: 3-4                           [16, 65, 32]              --\n",
       "│    │    └─LayerNorm: 3-5                         [16, 65, 32]              64\n",
       "│    │    └─FeedForward: 3-6                       [16, 65, 32]              2,112\n",
       "│    │    └─Dropout: 3-7                           [16, 65, 32]              --\n",
       "│    │    └─LayerNorm: 3-8                         [16, 65, 32]              64\n",
       "│    └─EncoderLayer: 2-3                           [16, 65, 32]              --\n",
       "│    │    └─MultiHeadSelfAttentionBlock: 3-9       [16, 65, 32]              4,288\n",
       "│    │    └─Dropout: 3-10                          [16, 65, 32]              --\n",
       "│    │    └─LayerNorm: 3-11                        [16, 65, 32]              64\n",
       "│    │    └─FeedForward: 3-12                      [16, 65, 32]              2,112\n",
       "│    │    └─Dropout: 3-13                          [16, 65, 32]              --\n",
       "│    │    └─LayerNorm: 3-14                        [16, 65, 32]              64\n",
       "│    └─EncoderLayer: 2-4                           [16, 65, 32]              --\n",
       "│    │    └─MultiHeadSelfAttentionBlock: 3-15      [16, 65, 32]              4,288\n",
       "│    │    └─Dropout: 3-16                          [16, 65, 32]              --\n",
       "│    │    └─LayerNorm: 3-17                        [16, 65, 32]              64\n",
       "│    │    └─FeedForward: 3-18                      [16, 65, 32]              2,112\n",
       "│    │    └─Dropout: 3-19                          [16, 65, 32]              --\n",
       "│    │    └─LayerNorm: 3-20                        [16, 65, 32]              64\n",
       "│    └─EncoderLayer: 2-5                           [16, 65, 32]              --\n",
       "│    │    └─MultiHeadSelfAttentionBlock: 3-21      [16, 65, 32]              4,288\n",
       "│    │    └─Dropout: 3-22                          [16, 65, 32]              --\n",
       "│    │    └─LayerNorm: 3-23                        [16, 65, 32]              64\n",
       "│    │    └─FeedForward: 3-24                      [16, 65, 32]              2,112\n",
       "│    │    └─Dropout: 3-25                          [16, 65, 32]              --\n",
       "│    │    └─LayerNorm: 3-26                        [16, 65, 32]              64\n",
       "│    └─EncoderLayer: 2-6                           [16, 65, 32]              --\n",
       "│    │    └─MultiHeadSelfAttentionBlock: 3-27      [16, 65, 32]              4,288\n",
       "│    │    └─Dropout: 3-28                          [16, 65, 32]              --\n",
       "│    │    └─LayerNorm: 3-29                        [16, 65, 32]              64\n",
       "│    │    └─FeedForward: 3-30                      [16, 65, 32]              2,112\n",
       "│    │    └─Dropout: 3-31                          [16, 65, 32]              --\n",
       "│    │    └─LayerNorm: 3-32                        [16, 65, 32]              64\n",
       "│    └─EncoderLayer: 2-7                           [16, 65, 32]              --\n",
       "│    │    └─MultiHeadSelfAttentionBlock: 3-33      [16, 65, 32]              4,288\n",
       "│    │    └─Dropout: 3-34                          [16, 65, 32]              --\n",
       "│    │    └─LayerNorm: 3-35                        [16, 65, 32]              64\n",
       "│    │    └─FeedForward: 3-36                      [16, 65, 32]              2,112\n",
       "│    │    └─Dropout: 3-37                          [16, 65, 32]              --\n",
       "│    │    └─LayerNorm: 3-38                        [16, 65, 32]              64\n",
       "├─Sequential: 1-3                                  [16, 10]                  --\n",
       "│    └─LayerNorm: 2-8                              [16, 32]                  64\n",
       "│    └─Linear: 2-9                                 [16, 10]                  330\n",
       "│    └─Softmax: 2-10                               [16, 10]                  --\n",
       "====================================================================================================\n",
       "Total params: 43,242\n",
       "Trainable params: 43,242\n",
       "Non-trainable params: 0\n",
       "Total mult-adds (M): 0.25\n",
       "====================================================================================================\n",
       "Input size (MB): 0.20\n",
       "Forward/backward pass size (MB): 8.25\n",
       "Params size (MB): 0.06\n",
       "Estimated Total Size (MB): 8.51\n",
       "===================================================================================================="
      ]
     },
     "execution_count": 3,
     "metadata": {},
     "output_type": "execute_result"
    }
   ],
   "source": [
    "vit = ViT(ch=3, img_size=32, out_dim=10)\n",
    "\n",
    "batch_size = 16\n",
    "\n",
    "summary(vit, input_size=(batch_size, 3, 32, 32))"
   ]
  },
  {
   "cell_type": "code",
   "execution_count": 4,
   "metadata": {},
   "outputs": [
    {
     "name": "stdout",
     "output_type": "stream",
     "text": [
      "Files already downloaded and verified\n",
      "Files already downloaded and verified\n"
     ]
    }
   ],
   "source": [
    "import torchvision.transforms as transforms\n",
    "from torchvision.datasets import CIFAR10\n",
    "from torchvision.transforms import ToTensor\n",
    "from torch.nn.functional import one_hot\n",
    "\n",
    "transform = transforms.Compose(\n",
    "    [transforms.ToTensor(),\n",
    "     transforms.Normalize((0.5, 0.5, 0.5), (0.5, 0.5, 0.5))])\n",
    "\n",
    "cifar10_data_train = CIFAR10(\"dataset/\", train = True, download=True, transform=transform)\n",
    "cifar10_data_test = CIFAR10(\"dataset/\",train = False, download=True, transform=transform)\n",
    "\n",
    "train_data_loader = torch.utils.data.DataLoader(cifar10_data_train,\n",
    "                                          batch_size=16,\n",
    "                                          shuffle=True,\n",
    "                                          num_workers=6,\n",
    "                                          )\n",
    "\n",
    "\n",
    "test_data_loader = torch.utils.data.DataLoader(cifar10_data_test,\n",
    "                                          batch_size=16,\n",
    "                                          shuffle=True,\n",
    "                                          num_workers=6,\n",
    "                                          )                                        "
   ]
  },
  {
   "cell_type": "code",
   "execution_count": 5,
   "metadata": {},
   "outputs": [],
   "source": [
    "from torch.optim import Adam\n",
    "criterion = torch.nn.CrossEntropyLoss()\n",
    "optimizer = Adam(vit.parameters())"
   ]
  },
  {
   "cell_type": "code",
   "execution_count": 6,
   "metadata": {},
   "outputs": [
    {
     "name": "stdout",
     "output_type": "stream",
     "text": [
      "torch.Size([16, 3, 32, 32]) torch.Size([16])\n"
     ]
    }
   ],
   "source": [
    "for x, y in train_data_loader:\n",
    "    print(x.shape, y.shape)\n",
    "    break"
   ]
  },
  {
   "cell_type": "code",
   "execution_count": 9,
   "metadata": {},
   "outputs": [
    {
     "name": "stderr",
     "output_type": "stream",
     "text": [
      "  0%|          | 0/3125 [00:34<?, ?batch/s]\n"
     ]
    },
    {
     "ename": "ValueError",
     "evalue": "too many values to unpack (expected 2)",
     "output_type": "error",
     "traceback": [
      "\u001b[1;31m---------------------------------------------------------------------------\u001b[0m",
      "\u001b[1;31mValueError\u001b[0m                                Traceback (most recent call last)",
      "Cell \u001b[1;32mIn[9], line 3\u001b[0m\n\u001b[0;32m      1\u001b[0m \u001b[38;5;28;01mfrom\u001b[39;00m \u001b[38;5;21;01mutils\u001b[39;00m\u001b[38;5;21;01m.\u001b[39;00m\u001b[38;5;21;01mtrain\u001b[39;00m \u001b[38;5;28;01mimport\u001b[39;00m train\n\u001b[1;32m----> 3\u001b[0m \u001b[43mtrain\u001b[49m\u001b[43m(\u001b[49m\u001b[43mvit\u001b[49m\u001b[43m,\u001b[49m\u001b[43m \u001b[49m\u001b[43mtrain_data_loader\u001b[49m\u001b[43m,\u001b[49m\u001b[43m \u001b[49m\u001b[43mtest_data_loader\u001b[49m\u001b[43m,\u001b[49m\u001b[43m \u001b[49m\u001b[43mcriterion\u001b[49m\u001b[43m,\u001b[49m\u001b[43m \u001b[49m\u001b[43moptimizer\u001b[49m\u001b[43m,\u001b[49m\u001b[43m \u001b[49m\u001b[43mnum_epochs\u001b[49m\u001b[38;5;241;43m=\u001b[39;49m\u001b[38;5;241;43m50\u001b[39;49m\u001b[43m)\u001b[49m\n",
      "File \u001b[1;32mc:\\Users\\damig\\pracownia_naukowa\\utils\\train.py:25\u001b[0m, in \u001b[0;36mtrain\u001b[1;34m(model, train_loader, valid_loader, criterion, optimizer, num_epochs, patience, checkpoint_path)\u001b[0m\n\u001b[0;32m     22\u001b[0m train_loss \u001b[38;5;241m=\u001b[39m \u001b[38;5;241m0.0\u001b[39m\n\u001b[0;32m     24\u001b[0m \u001b[38;5;28;01mwith\u001b[39;00m tqdm(train_loader, unit\u001b[38;5;241m=\u001b[39m\u001b[38;5;124m'\u001b[39m\u001b[38;5;124mbatch\u001b[39m\u001b[38;5;124m'\u001b[39m) \u001b[38;5;28;01mas\u001b[39;00m pbar:\n\u001b[1;32m---> 25\u001b[0m     \u001b[38;5;28;01mfor\u001b[39;00m idx, (inputs, labels) \u001b[38;5;129;01min\u001b[39;00m pbar:\n\u001b[0;32m     26\u001b[0m         pbar\u001b[38;5;241m.\u001b[39mset_description(\u001b[38;5;124mf\u001b[39m\u001b[38;5;124m'\u001b[39m\u001b[38;5;124mEpoch...\u001b[39m\u001b[38;5;132;01m{\u001b[39;00mepoch\u001b[38;5;132;01m}\u001b[39;00m\u001b[38;5;124m/\u001b[39m\u001b[38;5;132;01m{\u001b[39;00mnum_epochs\u001b[38;5;132;01m}\u001b[39;00m\u001b[38;5;124m'\u001b[39m)\n\u001b[0;32m     27\u001b[0m         inputs, labels \u001b[38;5;241m=\u001b[39m inputs\u001b[38;5;241m.\u001b[39mto(device), labels\u001b[38;5;241m.\u001b[39mto(device)\n",
      "\u001b[1;31mValueError\u001b[0m: too many values to unpack (expected 2)"
     ]
    }
   ],
   "source": [
    "from utils.train import train\n",
    "\n",
    "train(vit, train_data_loader, test_data_loader, criterion, optimizer, 50)"
   ]
  }
 ],
 "metadata": {
  "kernelspec": {
   "display_name": "Python 3",
   "language": "python",
   "name": "python3"
  },
  "language_info": {
   "codemirror_mode": {
    "name": "ipython",
    "version": 3
   },
   "file_extension": ".py",
   "mimetype": "text/x-python",
   "name": "python",
   "nbconvert_exporter": "python",
   "pygments_lexer": "ipython3",
   "version": "3.10.13"
  }
 },
 "nbformat": 4,
 "nbformat_minor": 0
}
