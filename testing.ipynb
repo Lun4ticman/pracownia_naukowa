{
 "cells": [
  {
   "cell_type": "code",
   "execution_count": 1,
   "metadata": {
    "collapsed": true
   },
   "outputs": [],
   "source": [
    "from modules.vit import ViT\n",
    "from torchinfo import summary"
   ]
  },
  {
   "cell_type": "code",
   "execution_count": 2,
   "metadata": {},
   "outputs": [],
   "source": [
    "from modules.layers import *\n",
    "\n",
    "from modules.patch_embedding import *"
   ]
  },
  {
   "cell_type": "code",
   "execution_count": 8,
   "metadata": {
    "collapsed": false,
    "pycharm": {
     "name": "#%%\n"
    }
   },
   "outputs": [
    {
     "data": {
      "text/plain": [
       "====================================================================================================\n",
       "Layer (type:depth-idx)                             Output Shape              Param #\n",
       "====================================================================================================\n",
       "ViT                                                [16, 10]                  4,608\n",
       "├─PatchEmbedding: 1-1                              [16, 4, 768]              --\n",
       "│    └─Sequential: 2-1                             [16, 4, 768]              --\n",
       "│    │    └─Rearrange: 3-1                         [16, 4, 768]              --\n",
       "│    │    └─Linear: 3-2                            [16, 4, 768]              590,592\n",
       "├─ModuleList: 1-2                                  --                        --\n",
       "│    └─EncoderLayer: 2-2                           [16, 5, 768]              --\n",
       "│    │    └─MultiHeadSelfAttentionBlock: 3-3       [16, 5, 768]              2,363,904\n",
       "│    │    └─Dropout: 3-4                           [16, 5, 768]              --\n",
       "│    │    └─LayerNorm: 3-5                         [16, 5, 768]              1,536\n",
       "│    │    └─FeedForward: 3-6                       [16, 5, 768]              4,722,432\n",
       "│    │    └─Dropout: 3-7                           [16, 5, 768]              --\n",
       "│    │    └─LayerNorm: 3-8                         [16, 5, 768]              1,536\n",
       "│    └─EncoderLayer: 2-3                           [16, 5, 768]              --\n",
       "│    │    └─MultiHeadSelfAttentionBlock: 3-9       [16, 5, 768]              2,363,904\n",
       "│    │    └─Dropout: 3-10                          [16, 5, 768]              --\n",
       "│    │    └─LayerNorm: 3-11                        [16, 5, 768]              1,536\n",
       "│    │    └─FeedForward: 3-12                      [16, 5, 768]              4,722,432\n",
       "│    │    └─Dropout: 3-13                          [16, 5, 768]              --\n",
       "│    │    └─LayerNorm: 3-14                        [16, 5, 768]              1,536\n",
       "│    └─EncoderLayer: 2-4                           [16, 5, 768]              --\n",
       "│    │    └─MultiHeadSelfAttentionBlock: 3-15      [16, 5, 768]              2,363,904\n",
       "│    │    └─Dropout: 3-16                          [16, 5, 768]              --\n",
       "│    │    └─LayerNorm: 3-17                        [16, 5, 768]              1,536\n",
       "│    │    └─FeedForward: 3-18                      [16, 5, 768]              4,722,432\n",
       "│    │    └─Dropout: 3-19                          [16, 5, 768]              --\n",
       "│    │    └─LayerNorm: 3-20                        [16, 5, 768]              1,536\n",
       "│    └─EncoderLayer: 2-5                           [16, 5, 768]              --\n",
       "│    │    └─MultiHeadSelfAttentionBlock: 3-21      [16, 5, 768]              2,363,904\n",
       "│    │    └─Dropout: 3-22                          [16, 5, 768]              --\n",
       "│    │    └─LayerNorm: 3-23                        [16, 5, 768]              1,536\n",
       "│    │    └─FeedForward: 3-24                      [16, 5, 768]              4,722,432\n",
       "│    │    └─Dropout: 3-25                          [16, 5, 768]              --\n",
       "│    │    └─LayerNorm: 3-26                        [16, 5, 768]              1,536\n",
       "│    └─EncoderLayer: 2-6                           [16, 5, 768]              --\n",
       "│    │    └─MultiHeadSelfAttentionBlock: 3-27      [16, 5, 768]              2,363,904\n",
       "│    │    └─Dropout: 3-28                          [16, 5, 768]              --\n",
       "│    │    └─LayerNorm: 3-29                        [16, 5, 768]              1,536\n",
       "│    │    └─FeedForward: 3-30                      [16, 5, 768]              4,722,432\n",
       "│    │    └─Dropout: 3-31                          [16, 5, 768]              --\n",
       "│    │    └─LayerNorm: 3-32                        [16, 5, 768]              1,536\n",
       "│    └─EncoderLayer: 2-7                           [16, 5, 768]              --\n",
       "│    │    └─MultiHeadSelfAttentionBlock: 3-33      [16, 5, 768]              2,363,904\n",
       "│    │    └─Dropout: 3-34                          [16, 5, 768]              --\n",
       "│    │    └─LayerNorm: 3-35                        [16, 5, 768]              1,536\n",
       "│    │    └─FeedForward: 3-36                      [16, 5, 768]              4,722,432\n",
       "│    │    └─Dropout: 3-37                          [16, 5, 768]              --\n",
       "│    │    └─LayerNorm: 3-38                        [16, 5, 768]              1,536\n",
       "│    └─EncoderLayer: 2-8                           [16, 5, 768]              --\n",
       "│    │    └─MultiHeadSelfAttentionBlock: 3-39      [16, 5, 768]              2,363,904\n",
       "│    │    └─Dropout: 3-40                          [16, 5, 768]              --\n",
       "│    │    └─LayerNorm: 3-41                        [16, 5, 768]              1,536\n",
       "│    │    └─FeedForward: 3-42                      [16, 5, 768]              4,722,432\n",
       "│    │    └─Dropout: 3-43                          [16, 5, 768]              --\n",
       "│    │    └─LayerNorm: 3-44                        [16, 5, 768]              1,536\n",
       "│    └─EncoderLayer: 2-9                           [16, 5, 768]              --\n",
       "│    │    └─MultiHeadSelfAttentionBlock: 3-45      [16, 5, 768]              2,363,904\n",
       "│    │    └─Dropout: 3-46                          [16, 5, 768]              --\n",
       "│    │    └─LayerNorm: 3-47                        [16, 5, 768]              1,536\n",
       "│    │    └─FeedForward: 3-48                      [16, 5, 768]              4,722,432\n",
       "│    │    └─Dropout: 3-49                          [16, 5, 768]              --\n",
       "│    │    └─LayerNorm: 3-50                        [16, 5, 768]              1,536\n",
       "│    └─EncoderLayer: 2-10                          [16, 5, 768]              --\n",
       "│    │    └─MultiHeadSelfAttentionBlock: 3-51      [16, 5, 768]              2,363,904\n",
       "│    │    └─Dropout: 3-52                          [16, 5, 768]              --\n",
       "│    │    └─LayerNorm: 3-53                        [16, 5, 768]              1,536\n",
       "│    │    └─FeedForward: 3-54                      [16, 5, 768]              4,722,432\n",
       "│    │    └─Dropout: 3-55                          [16, 5, 768]              --\n",
       "│    │    └─LayerNorm: 3-56                        [16, 5, 768]              1,536\n",
       "│    └─EncoderLayer: 2-11                          [16, 5, 768]              --\n",
       "│    │    └─MultiHeadSelfAttentionBlock: 3-57      [16, 5, 768]              2,363,904\n",
       "│    │    └─Dropout: 3-58                          [16, 5, 768]              --\n",
       "│    │    └─LayerNorm: 3-59                        [16, 5, 768]              1,536\n",
       "│    │    └─FeedForward: 3-60                      [16, 5, 768]              4,722,432\n",
       "│    │    └─Dropout: 3-61                          [16, 5, 768]              --\n",
       "│    │    └─LayerNorm: 3-62                        [16, 5, 768]              1,536\n",
       "│    └─EncoderLayer: 2-12                          [16, 5, 768]              --\n",
       "│    │    └─MultiHeadSelfAttentionBlock: 3-63      [16, 5, 768]              2,363,904\n",
       "│    │    └─Dropout: 3-64                          [16, 5, 768]              --\n",
       "│    │    └─LayerNorm: 3-65                        [16, 5, 768]              1,536\n",
       "│    │    └─FeedForward: 3-66                      [16, 5, 768]              4,722,432\n",
       "│    │    └─Dropout: 3-67                          [16, 5, 768]              --\n",
       "│    │    └─LayerNorm: 3-68                        [16, 5, 768]              1,536\n",
       "│    └─EncoderLayer: 2-13                          [16, 5, 768]              --\n",
       "│    │    └─MultiHeadSelfAttentionBlock: 3-69      [16, 5, 768]              2,363,904\n",
       "│    │    └─Dropout: 3-70                          [16, 5, 768]              --\n",
       "│    │    └─LayerNorm: 3-71                        [16, 5, 768]              1,536\n",
       "│    │    └─FeedForward: 3-72                      [16, 5, 768]              4,722,432\n",
       "│    │    └─Dropout: 3-73                          [16, 5, 768]              --\n",
       "│    │    └─LayerNorm: 3-74                        [16, 5, 768]              1,536\n",
       "├─Sequential: 1-3                                  [16, 10]                  --\n",
       "│    └─LayerNorm: 2-14                             [16, 768]                 1,536\n",
       "│    └─Linear: 2-15                                [16, 10]                  7,690\n",
       "│    └─Softmax: 2-16                               [16, 10]                  --\n",
       "====================================================================================================\n",
       "Total params: 85,677,322\n",
       "Trainable params: 85,677,322\n",
       "Non-trainable params: 0\n",
       "Total mult-adds (M): 917.19\n",
       "====================================================================================================\n",
       "Input size (MB): 0.20\n",
       "Forward/backward pass size (MB): 47.68\n",
       "Params size (MB): 229.30\n",
       "Estimated Total Size (MB): 277.17\n",
       "===================================================================================================="
      ]
     },
     "execution_count": 8,
     "metadata": {},
     "output_type": "execute_result"
    }
   ],
   "source": [
    "channels = 3\n",
    "image_size = 32\n",
    "\n",
    "vit = ViT(channels=channels, img_size=image_size, patch_size=16, emb_dim=768, d_ff=3072, n_layers=12, out_dim=10, heads=12)\n",
    "\n",
    "batch_size = 16\n",
    "\n",
    "summary(vit, input_size=(batch_size, channels, image_size, image_size))"
   ]
  },
  {
   "cell_type": "code",
   "execution_count": 9,
   "metadata": {},
   "outputs": [
    {
     "name": "stdout",
     "output_type": "stream",
     "text": [
      "Files already downloaded and verified\n",
      "Files already downloaded and verified\n"
     ]
    }
   ],
   "source": [
    "import torchvision.transforms as transforms\n",
    "from torchvision.datasets import CIFAR10\n",
    "from torchvision.transforms import ToTensor\n",
    "from torch.nn.functional import one_hot\n",
    "\n",
    "transform = transforms.Compose(\n",
    "    [transforms.ToTensor(),\n",
    "     transforms.Normalize((0.5, 0.5, 0.5), (0.5, 0.5, 0.5))])\n",
    "\n",
    "cifar10_data_train = CIFAR10(\"dataset/\", train = True, download=True, transform=transform)\n",
    "cifar10_data_test = CIFAR10(\"dataset/\",train = False, download=True, transform=transform)\n",
    "\n",
    "train_data_loader = torch.utils.data.DataLoader(cifar10_data_train,\n",
    "                                          batch_size=16,\n",
    "                                          shuffle=True,\n",
    "                                          num_workers=8,\n",
    "                                          )\n",
    "\n",
    "\n",
    "test_data_loader = torch.utils.data.DataLoader(cifar10_data_test,\n",
    "                                          batch_size=16,\n",
    "                                          shuffle=True,\n",
    "                                          num_workers=8,\n",
    "                                          )                                        "
   ]
  },
  {
   "cell_type": "code",
   "execution_count": 10,
   "metadata": {},
   "outputs": [],
   "source": [
    "from torch.optim import Adam\n",
    "criterion = torch.nn.CrossEntropyLoss()\n",
    "# optimizer = Adam(vit.parameters())\n",
    "optimizer = torch.optim.SGD(vit.parameters(), lr=0.001, momentum=0.9)"
   ]
  },
  {
   "cell_type": "code",
   "execution_count": 11,
   "metadata": {},
   "outputs": [
    {
     "name": "stdout",
     "output_type": "stream",
     "text": [
      "torch.Size([16, 3, 32, 32]) torch.Size([16])\n"
     ]
    }
   ],
   "source": [
    "for x, y in train_data_loader:\n",
    "    print(x.shape, y.shape)\n",
    "    break"
   ]
  },
  {
   "cell_type": "code",
   "execution_count": 26,
   "metadata": {},
   "outputs": [
    {
     "name": "stderr",
     "output_type": "stream",
     "text": [
      "  0%|          | 0/3125 [00:00<?, ?batch/s]"
     ]
    },
    {
     "name": "stderr",
     "output_type": "stream",
     "text": [
      "Epoch...0/60: 100%|██████████| 3125/3125 [03:35<00:00, 14.53batch/s, loss=1.68]\n"
     ]
    },
    {
     "name": "stdout",
     "output_type": "stream",
     "text": [
      "Epoch 1/60, Train Loss: 1.6764, Validation Loss: 1.9094\n"
     ]
    },
    {
     "name": "stderr",
     "output_type": "stream",
     "text": [
      "Epoch...1/60: 100%|██████████| 3125/3125 [03:27<00:00, 15.09batch/s, loss=1.67]\n"
     ]
    },
    {
     "name": "stdout",
     "output_type": "stream",
     "text": [
      "Epoch 2/60, Train Loss: 1.6696, Validation Loss: 1.8983\n"
     ]
    },
    {
     "name": "stderr",
     "output_type": "stream",
     "text": [
      "Epoch...2/60: 100%|██████████| 3125/3125 [03:36<00:00, 14.42batch/s, loss=1.67]\n"
     ]
    },
    {
     "name": "stdout",
     "output_type": "stream",
     "text": [
      "Epoch 3/60, Train Loss: 1.6746, Validation Loss: 1.9049\n"
     ]
    },
    {
     "name": "stderr",
     "output_type": "stream",
     "text": [
      "Epoch...3/60: 100%|██████████| 3125/3125 [03:44<00:00, 13.91batch/s, loss=1.67]\n"
     ]
    },
    {
     "name": "stdout",
     "output_type": "stream",
     "text": [
      "Epoch 4/60, Train Loss: 1.6725, Validation Loss: 1.9106\n"
     ]
    },
    {
     "name": "stderr",
     "output_type": "stream",
     "text": [
      "Epoch...4/60: 100%|██████████| 3125/3125 [03:38<00:00, 14.29batch/s, loss=1.67]\n"
     ]
    },
    {
     "name": "stdout",
     "output_type": "stream",
     "text": [
      "Epoch 5/60, Train Loss: 1.6661, Validation Loss: 1.9005\n"
     ]
    },
    {
     "name": "stderr",
     "output_type": "stream",
     "text": [
      "Epoch...5/60: 100%|██████████| 3125/3125 [03:33<00:00, 14.67batch/s, loss=1.66]\n"
     ]
    },
    {
     "name": "stdout",
     "output_type": "stream",
     "text": [
      "Epoch 6/60, Train Loss: 1.6642, Validation Loss: 1.9093\n"
     ]
    },
    {
     "name": "stderr",
     "output_type": "stream",
     "text": [
      "Epoch...6/60: 100%|██████████| 3125/3125 [03:28<00:00, 14.99batch/s, loss=1.66]\n"
     ]
    },
    {
     "name": "stdout",
     "output_type": "stream",
     "text": [
      "Epoch 7/60, Train Loss: 1.6641, Validation Loss: 1.9049\n"
     ]
    },
    {
     "name": "stderr",
     "output_type": "stream",
     "text": [
      "Epoch...7/60: 100%|██████████| 3125/3125 [03:23<00:00, 15.35batch/s, loss=1.66]\n"
     ]
    },
    {
     "name": "stdout",
     "output_type": "stream",
     "text": [
      "Epoch 8/60, Train Loss: 1.6598, Validation Loss: 1.9022\n"
     ]
    },
    {
     "name": "stderr",
     "output_type": "stream",
     "text": [
      "Epoch...8/60: 100%|██████████| 3125/3125 [03:21<00:00, 15.51batch/s, loss=1.66]\n"
     ]
    },
    {
     "name": "stdout",
     "output_type": "stream",
     "text": [
      "Epoch 9/60, Train Loss: 1.6580, Validation Loss: 1.9009\n"
     ]
    },
    {
     "name": "stderr",
     "output_type": "stream",
     "text": [
      "Epoch...9/60: 100%|██████████| 3125/3125 [03:26<00:00, 15.14batch/s, loss=1.65]\n"
     ]
    },
    {
     "name": "stdout",
     "output_type": "stream",
     "text": [
      "Epoch 10/60, Train Loss: 1.6548, Validation Loss: 1.9043\n"
     ]
    },
    {
     "name": "stderr",
     "output_type": "stream",
     "text": [
      "Epoch...10/60: 100%|██████████| 3125/3125 [03:24<00:00, 15.29batch/s, loss=1.65]\n"
     ]
    },
    {
     "name": "stdout",
     "output_type": "stream",
     "text": [
      "Epoch 11/60, Train Loss: 1.6544, Validation Loss: 1.9039\n"
     ]
    },
    {
     "name": "stderr",
     "output_type": "stream",
     "text": [
      "Epoch...11/60: 100%|██████████| 3125/3125 [03:21<00:00, 15.47batch/s, loss=1.65]\n"
     ]
    },
    {
     "name": "stdout",
     "output_type": "stream",
     "text": [
      "Epoch 12/60, Train Loss: 1.6504, Validation Loss: 1.9032\n"
     ]
    },
    {
     "name": "stderr",
     "output_type": "stream",
     "text": [
      "Epoch...12/60: 100%|██████████| 3125/3125 [03:22<00:00, 15.40batch/s, loss=1.65]\n"
     ]
    },
    {
     "name": "stdout",
     "output_type": "stream",
     "text": [
      "Epoch 13/60, Train Loss: 1.6480, Validation Loss: 1.9108\n"
     ]
    },
    {
     "name": "stderr",
     "output_type": "stream",
     "text": [
      "Epoch...13/60: 100%|██████████| 3125/3125 [03:26<00:00, 15.11batch/s, loss=1.65]\n"
     ]
    },
    {
     "name": "stdout",
     "output_type": "stream",
     "text": [
      "Epoch 14/60, Train Loss: 1.6500, Validation Loss: 1.9001\n"
     ]
    },
    {
     "name": "stderr",
     "output_type": "stream",
     "text": [
      "Epoch...14/60: 100%|██████████| 3125/3125 [03:25<00:00, 15.22batch/s, loss=1.65]\n"
     ]
    },
    {
     "name": "stdout",
     "output_type": "stream",
     "text": [
      "Epoch 15/60, Train Loss: 1.6451, Validation Loss: 1.9017\n"
     ]
    },
    {
     "name": "stderr",
     "output_type": "stream",
     "text": [
      "Epoch...15/60: 100%|██████████| 3125/3125 [03:30<00:00, 14.84batch/s, loss=1.64]\n"
     ]
    },
    {
     "name": "stdout",
     "output_type": "stream",
     "text": [
      "Epoch 16/60, Train Loss: 1.6432, Validation Loss: 1.8986\n"
     ]
    },
    {
     "name": "stderr",
     "output_type": "stream",
     "text": [
      "Epoch...16/60: 100%|██████████| 3125/3125 [03:29<00:00, 14.91batch/s, loss=1.65]\n"
     ]
    },
    {
     "name": "stdout",
     "output_type": "stream",
     "text": [
      "Epoch 17/60, Train Loss: 1.6461, Validation Loss: 1.9074\n"
     ]
    },
    {
     "name": "stderr",
     "output_type": "stream",
     "text": [
      "Epoch...17/60: 100%|██████████| 3125/3125 [03:24<00:00, 15.32batch/s, loss=1.64]\n"
     ]
    },
    {
     "name": "stdout",
     "output_type": "stream",
     "text": [
      "Epoch 18/60, Train Loss: 1.6424, Validation Loss: 1.9054\n"
     ]
    },
    {
     "name": "stderr",
     "output_type": "stream",
     "text": [
      "Epoch...18/60: 100%|██████████| 3125/3125 [03:27<00:00, 15.04batch/s, loss=1.64]\n"
     ]
    },
    {
     "name": "stdout",
     "output_type": "stream",
     "text": [
      "Epoch 19/60, Train Loss: 1.6406, Validation Loss: 1.9016\n"
     ]
    },
    {
     "name": "stderr",
     "output_type": "stream",
     "text": [
      "Epoch...19/60: 100%|██████████| 3125/3125 [03:23<00:00, 15.34batch/s, loss=1.64]\n"
     ]
    },
    {
     "name": "stdout",
     "output_type": "stream",
     "text": [
      "Epoch 20/60, Train Loss: 1.6419, Validation Loss: 1.8983\n"
     ]
    },
    {
     "name": "stderr",
     "output_type": "stream",
     "text": [
      "Epoch...20/60: 100%|██████████| 3125/3125 [03:21<00:00, 15.50batch/s, loss=1.64]\n"
     ]
    },
    {
     "name": "stdout",
     "output_type": "stream",
     "text": [
      "Epoch 21/60, Train Loss: 1.6438, Validation Loss: 1.9043\n"
     ]
    },
    {
     "name": "stderr",
     "output_type": "stream",
     "text": [
      "Epoch...21/60: 100%|██████████| 3125/3125 [03:25<00:00, 15.18batch/s, loss=1.64]\n"
     ]
    },
    {
     "name": "stdout",
     "output_type": "stream",
     "text": [
      "Epoch 22/60, Train Loss: 1.6412, Validation Loss: 1.9002\n"
     ]
    },
    {
     "name": "stderr",
     "output_type": "stream",
     "text": [
      "Epoch...22/60: 100%|██████████| 3125/3125 [03:28<00:00, 15.02batch/s, loss=1.64]\n"
     ]
    },
    {
     "name": "stdout",
     "output_type": "stream",
     "text": [
      "Epoch 23/60, Train Loss: 1.6394, Validation Loss: 1.8959\n"
     ]
    },
    {
     "name": "stderr",
     "output_type": "stream",
     "text": [
      "Epoch...23/60: 100%|██████████| 3125/3125 [03:25<00:00, 15.18batch/s, loss=1.64]\n"
     ]
    },
    {
     "name": "stdout",
     "output_type": "stream",
     "text": [
      "Epoch 24/60, Train Loss: 1.6365, Validation Loss: 1.9070\n"
     ]
    },
    {
     "name": "stderr",
     "output_type": "stream",
     "text": [
      "Epoch...24/60: 100%|██████████| 3125/3125 [03:40<00:00, 14.18batch/s, loss=1.64]\n"
     ]
    },
    {
     "name": "stdout",
     "output_type": "stream",
     "text": [
      "Epoch 25/60, Train Loss: 1.6361, Validation Loss: 1.9078\n"
     ]
    },
    {
     "name": "stderr",
     "output_type": "stream",
     "text": [
      "Epoch...25/60: 100%|██████████| 3125/3125 [03:32<00:00, 14.74batch/s, loss=1.64]\n"
     ]
    },
    {
     "name": "stdout",
     "output_type": "stream",
     "text": [
      "Epoch 26/60, Train Loss: 1.6366, Validation Loss: 1.9136\n"
     ]
    },
    {
     "name": "stderr",
     "output_type": "stream",
     "text": [
      "  0%|          | 0/3125 [00:11<?, ?batch/s]\n"
     ]
    },
    {
     "ename": "KeyboardInterrupt",
     "evalue": "",
     "output_type": "error",
     "traceback": [
      "\u001b[1;31m---------------------------------------------------------------------------\u001b[0m",
      "\u001b[1;31mKeyboardInterrupt\u001b[0m                         Traceback (most recent call last)",
      "Cell \u001b[1;32mIn[26], line 3\u001b[0m\n\u001b[0;32m      1\u001b[0m \u001b[38;5;28;01mfrom\u001b[39;00m \u001b[38;5;21;01mutils\u001b[39;00m\u001b[38;5;21;01m.\u001b[39;00m\u001b[38;5;21;01mtrain\u001b[39;00m \u001b[38;5;28;01mimport\u001b[39;00m train\n\u001b[1;32m----> 3\u001b[0m \u001b[43mtrain\u001b[49m\u001b[43m(\u001b[49m\u001b[43mvit\u001b[49m\u001b[43m,\u001b[49m\u001b[43m \u001b[49m\u001b[43mtrain_data_loader\u001b[49m\u001b[43m,\u001b[49m\u001b[43m \u001b[49m\u001b[43mtest_data_loader\u001b[49m\u001b[43m,\u001b[49m\u001b[43m \u001b[49m\u001b[43mcriterion\u001b[49m\u001b[43m,\u001b[49m\u001b[43m \u001b[49m\u001b[43moptimizer\u001b[49m\u001b[43m,\u001b[49m\u001b[43m \u001b[49m\u001b[38;5;241;43m60\u001b[39;49m\u001b[43m,\u001b[49m\u001b[43m \u001b[49m\u001b[43mpatience\u001b[49m\u001b[38;5;241;43m=\u001b[39;49m\u001b[38;5;241;43m50\u001b[39;49m\u001b[43m)\u001b[49m\n",
      "File \u001b[1;32mc:\\Users\\damig\\pracownia_naukowa\\utils\\train.py:25\u001b[0m, in \u001b[0;36mtrain\u001b[1;34m(model, train_loader, valid_loader, criterion, optimizer, num_epochs, patience, checkpoint_path)\u001b[0m\n\u001b[0;32m     22\u001b[0m train_loss \u001b[38;5;241m=\u001b[39m \u001b[38;5;241m0.0\u001b[39m\n\u001b[0;32m     24\u001b[0m \u001b[38;5;28;01mwith\u001b[39;00m tqdm(train_loader, unit\u001b[38;5;241m=\u001b[39m\u001b[38;5;124m'\u001b[39m\u001b[38;5;124mbatch\u001b[39m\u001b[38;5;124m'\u001b[39m) \u001b[38;5;28;01mas\u001b[39;00m pbar:\n\u001b[1;32m---> 25\u001b[0m     \u001b[38;5;28;01mfor\u001b[39;00m idx, (inputs, labels) \u001b[38;5;129;01min\u001b[39;00m \u001b[38;5;28menumerate\u001b[39m(pbar):\n\u001b[0;32m     26\u001b[0m         pbar\u001b[38;5;241m.\u001b[39mset_description(\u001b[38;5;124mf\u001b[39m\u001b[38;5;124m'\u001b[39m\u001b[38;5;124mEpoch...\u001b[39m\u001b[38;5;132;01m{\u001b[39;00mepoch\u001b[38;5;132;01m}\u001b[39;00m\u001b[38;5;124m/\u001b[39m\u001b[38;5;132;01m{\u001b[39;00mnum_epochs\u001b[38;5;132;01m}\u001b[39;00m\u001b[38;5;124m'\u001b[39m)\n\u001b[0;32m     27\u001b[0m         inputs, labels \u001b[38;5;241m=\u001b[39m inputs\u001b[38;5;241m.\u001b[39mto(device), labels\u001b[38;5;241m.\u001b[39mto(device)\n",
      "File \u001b[1;32mc:\\Users\\damig\\anaconda3\\envs\\pracownia_naukowa\\lib\\site-packages\\tqdm\\std.py:1182\u001b[0m, in \u001b[0;36mtqdm.__iter__\u001b[1;34m(self)\u001b[0m\n\u001b[0;32m   1179\u001b[0m time \u001b[38;5;241m=\u001b[39m \u001b[38;5;28mself\u001b[39m\u001b[38;5;241m.\u001b[39m_time\n\u001b[0;32m   1181\u001b[0m \u001b[38;5;28;01mtry\u001b[39;00m:\n\u001b[1;32m-> 1182\u001b[0m     \u001b[38;5;28;01mfor\u001b[39;00m obj \u001b[38;5;129;01min\u001b[39;00m iterable:\n\u001b[0;32m   1183\u001b[0m         \u001b[38;5;28;01myield\u001b[39;00m obj\n\u001b[0;32m   1184\u001b[0m         \u001b[38;5;66;03m# Update and possibly print the progressbar.\u001b[39;00m\n\u001b[0;32m   1185\u001b[0m         \u001b[38;5;66;03m# Note: does not call self.update(1) for speed optimisation.\u001b[39;00m\n",
      "File \u001b[1;32mc:\\Users\\damig\\anaconda3\\envs\\pracownia_naukowa\\lib\\site-packages\\torch\\utils\\data\\dataloader.py:438\u001b[0m, in \u001b[0;36mDataLoader.__iter__\u001b[1;34m(self)\u001b[0m\n\u001b[0;32m    436\u001b[0m     \u001b[38;5;28;01mreturn\u001b[39;00m \u001b[38;5;28mself\u001b[39m\u001b[38;5;241m.\u001b[39m_iterator\n\u001b[0;32m    437\u001b[0m \u001b[38;5;28;01melse\u001b[39;00m:\n\u001b[1;32m--> 438\u001b[0m     \u001b[38;5;28;01mreturn\u001b[39;00m \u001b[38;5;28;43mself\u001b[39;49m\u001b[38;5;241;43m.\u001b[39;49m\u001b[43m_get_iterator\u001b[49m\u001b[43m(\u001b[49m\u001b[43m)\u001b[49m\n",
      "File \u001b[1;32mc:\\Users\\damig\\anaconda3\\envs\\pracownia_naukowa\\lib\\site-packages\\torch\\utils\\data\\dataloader.py:386\u001b[0m, in \u001b[0;36mDataLoader._get_iterator\u001b[1;34m(self)\u001b[0m\n\u001b[0;32m    384\u001b[0m \u001b[38;5;28;01melse\u001b[39;00m:\n\u001b[0;32m    385\u001b[0m     \u001b[38;5;28mself\u001b[39m\u001b[38;5;241m.\u001b[39mcheck_worker_number_rationality()\n\u001b[1;32m--> 386\u001b[0m     \u001b[38;5;28;01mreturn\u001b[39;00m \u001b[43m_MultiProcessingDataLoaderIter\u001b[49m\u001b[43m(\u001b[49m\u001b[38;5;28;43mself\u001b[39;49m\u001b[43m)\u001b[49m\n",
      "File \u001b[1;32mc:\\Users\\damig\\anaconda3\\envs\\pracownia_naukowa\\lib\\site-packages\\torch\\utils\\data\\dataloader.py:1039\u001b[0m, in \u001b[0;36m_MultiProcessingDataLoaderIter.__init__\u001b[1;34m(self, loader)\u001b[0m\n\u001b[0;32m   1032\u001b[0m w\u001b[38;5;241m.\u001b[39mdaemon \u001b[38;5;241m=\u001b[39m \u001b[38;5;28;01mTrue\u001b[39;00m\n\u001b[0;32m   1033\u001b[0m \u001b[38;5;66;03m# NB: Process.start() actually take some time as it needs to\u001b[39;00m\n\u001b[0;32m   1034\u001b[0m \u001b[38;5;66;03m#     start a process and pass the arguments over via a pipe.\u001b[39;00m\n\u001b[0;32m   1035\u001b[0m \u001b[38;5;66;03m#     Therefore, we only add a worker to self._workers list after\u001b[39;00m\n\u001b[0;32m   1036\u001b[0m \u001b[38;5;66;03m#     it started, so that we do not call .join() if program dies\u001b[39;00m\n\u001b[0;32m   1037\u001b[0m \u001b[38;5;66;03m#     before it starts, and __del__ tries to join but will get:\u001b[39;00m\n\u001b[0;32m   1038\u001b[0m \u001b[38;5;66;03m#     AssertionError: can only join a started process.\u001b[39;00m\n\u001b[1;32m-> 1039\u001b[0m \u001b[43mw\u001b[49m\u001b[38;5;241;43m.\u001b[39;49m\u001b[43mstart\u001b[49m\u001b[43m(\u001b[49m\u001b[43m)\u001b[49m\n\u001b[0;32m   1040\u001b[0m \u001b[38;5;28mself\u001b[39m\u001b[38;5;241m.\u001b[39m_index_queues\u001b[38;5;241m.\u001b[39mappend(index_queue)\n\u001b[0;32m   1041\u001b[0m \u001b[38;5;28mself\u001b[39m\u001b[38;5;241m.\u001b[39m_workers\u001b[38;5;241m.\u001b[39mappend(w)\n",
      "File \u001b[1;32mc:\\Users\\damig\\anaconda3\\envs\\pracownia_naukowa\\lib\\multiprocessing\\process.py:121\u001b[0m, in \u001b[0;36mBaseProcess.start\u001b[1;34m(self)\u001b[0m\n\u001b[0;32m    118\u001b[0m \u001b[38;5;28;01massert\u001b[39;00m \u001b[38;5;129;01mnot\u001b[39;00m _current_process\u001b[38;5;241m.\u001b[39m_config\u001b[38;5;241m.\u001b[39mget(\u001b[38;5;124m'\u001b[39m\u001b[38;5;124mdaemon\u001b[39m\u001b[38;5;124m'\u001b[39m), \\\n\u001b[0;32m    119\u001b[0m        \u001b[38;5;124m'\u001b[39m\u001b[38;5;124mdaemonic processes are not allowed to have children\u001b[39m\u001b[38;5;124m'\u001b[39m\n\u001b[0;32m    120\u001b[0m _cleanup()\n\u001b[1;32m--> 121\u001b[0m \u001b[38;5;28mself\u001b[39m\u001b[38;5;241m.\u001b[39m_popen \u001b[38;5;241m=\u001b[39m \u001b[38;5;28;43mself\u001b[39;49m\u001b[38;5;241;43m.\u001b[39;49m\u001b[43m_Popen\u001b[49m\u001b[43m(\u001b[49m\u001b[38;5;28;43mself\u001b[39;49m\u001b[43m)\u001b[49m\n\u001b[0;32m    122\u001b[0m \u001b[38;5;28mself\u001b[39m\u001b[38;5;241m.\u001b[39m_sentinel \u001b[38;5;241m=\u001b[39m \u001b[38;5;28mself\u001b[39m\u001b[38;5;241m.\u001b[39m_popen\u001b[38;5;241m.\u001b[39msentinel\n\u001b[0;32m    123\u001b[0m \u001b[38;5;66;03m# Avoid a refcycle if the target function holds an indirect\u001b[39;00m\n\u001b[0;32m    124\u001b[0m \u001b[38;5;66;03m# reference to the process object (see bpo-30775)\u001b[39;00m\n",
      "File \u001b[1;32mc:\\Users\\damig\\anaconda3\\envs\\pracownia_naukowa\\lib\\multiprocessing\\context.py:224\u001b[0m, in \u001b[0;36mProcess._Popen\u001b[1;34m(process_obj)\u001b[0m\n\u001b[0;32m    222\u001b[0m \u001b[38;5;129m@staticmethod\u001b[39m\n\u001b[0;32m    223\u001b[0m \u001b[38;5;28;01mdef\u001b[39;00m \u001b[38;5;21m_Popen\u001b[39m(process_obj):\n\u001b[1;32m--> 224\u001b[0m     \u001b[38;5;28;01mreturn\u001b[39;00m \u001b[43m_default_context\u001b[49m\u001b[38;5;241;43m.\u001b[39;49m\u001b[43mget_context\u001b[49m\u001b[43m(\u001b[49m\u001b[43m)\u001b[49m\u001b[38;5;241;43m.\u001b[39;49m\u001b[43mProcess\u001b[49m\u001b[38;5;241;43m.\u001b[39;49m\u001b[43m_Popen\u001b[49m\u001b[43m(\u001b[49m\u001b[43mprocess_obj\u001b[49m\u001b[43m)\u001b[49m\n",
      "File \u001b[1;32mc:\\Users\\damig\\anaconda3\\envs\\pracownia_naukowa\\lib\\multiprocessing\\context.py:336\u001b[0m, in \u001b[0;36mSpawnProcess._Popen\u001b[1;34m(process_obj)\u001b[0m\n\u001b[0;32m    333\u001b[0m \u001b[38;5;129m@staticmethod\u001b[39m\n\u001b[0;32m    334\u001b[0m \u001b[38;5;28;01mdef\u001b[39;00m \u001b[38;5;21m_Popen\u001b[39m(process_obj):\n\u001b[0;32m    335\u001b[0m     \u001b[38;5;28;01mfrom\u001b[39;00m \u001b[38;5;21;01m.\u001b[39;00m\u001b[38;5;21;01mpopen_spawn_win32\u001b[39;00m \u001b[38;5;28;01mimport\u001b[39;00m Popen\n\u001b[1;32m--> 336\u001b[0m     \u001b[38;5;28;01mreturn\u001b[39;00m \u001b[43mPopen\u001b[49m\u001b[43m(\u001b[49m\u001b[43mprocess_obj\u001b[49m\u001b[43m)\u001b[49m\n",
      "File \u001b[1;32mc:\\Users\\damig\\anaconda3\\envs\\pracownia_naukowa\\lib\\multiprocessing\\popen_spawn_win32.py:93\u001b[0m, in \u001b[0;36mPopen.__init__\u001b[1;34m(self, process_obj)\u001b[0m\n\u001b[0;32m     91\u001b[0m \u001b[38;5;28;01mtry\u001b[39;00m:\n\u001b[0;32m     92\u001b[0m     reduction\u001b[38;5;241m.\u001b[39mdump(prep_data, to_child)\n\u001b[1;32m---> 93\u001b[0m     \u001b[43mreduction\u001b[49m\u001b[38;5;241;43m.\u001b[39;49m\u001b[43mdump\u001b[49m\u001b[43m(\u001b[49m\u001b[43mprocess_obj\u001b[49m\u001b[43m,\u001b[49m\u001b[43m \u001b[49m\u001b[43mto_child\u001b[49m\u001b[43m)\u001b[49m\n\u001b[0;32m     94\u001b[0m \u001b[38;5;28;01mfinally\u001b[39;00m:\n\u001b[0;32m     95\u001b[0m     set_spawning_popen(\u001b[38;5;28;01mNone\u001b[39;00m)\n",
      "File \u001b[1;32mc:\\Users\\damig\\anaconda3\\envs\\pracownia_naukowa\\lib\\multiprocessing\\reduction.py:60\u001b[0m, in \u001b[0;36mdump\u001b[1;34m(obj, file, protocol)\u001b[0m\n\u001b[0;32m     58\u001b[0m \u001b[38;5;28;01mdef\u001b[39;00m \u001b[38;5;21mdump\u001b[39m(obj, file, protocol\u001b[38;5;241m=\u001b[39m\u001b[38;5;28;01mNone\u001b[39;00m):\n\u001b[0;32m     59\u001b[0m \u001b[38;5;250m    \u001b[39m\u001b[38;5;124;03m'''Replacement for pickle.dump() using ForkingPickler.'''\u001b[39;00m\n\u001b[1;32m---> 60\u001b[0m     \u001b[43mForkingPickler\u001b[49m\u001b[43m(\u001b[49m\u001b[43mfile\u001b[49m\u001b[43m,\u001b[49m\u001b[43m \u001b[49m\u001b[43mprotocol\u001b[49m\u001b[43m)\u001b[49m\u001b[38;5;241;43m.\u001b[39;49m\u001b[43mdump\u001b[49m\u001b[43m(\u001b[49m\u001b[43mobj\u001b[49m\u001b[43m)\u001b[49m\n",
      "\u001b[1;31mKeyboardInterrupt\u001b[0m: "
     ]
    }
   ],
   "source": [
    "from utils.train import train\n",
    "\n",
    "train(vit, train_data_loader, test_data_loader, criterion, optimizer, 60, patience=50)"
   ]
  },
  {
   "cell_type": "code",
   "execution_count": 53,
   "metadata": {},
   "outputs": [
    {
     "name": "stderr",
     "output_type": "stream",
     "text": [
      "c:\\Users\\damig\\anaconda3\\envs\\pracownia_naukowa\\lib\\site-packages\\torch\\nn\\modules\\module.py:1518: UserWarning: Implicit dimension choice for softmax has been deprecated. Change the call to include dim=X as an argument.\n",
      "  return self._call_impl(*args, **kwargs)\n"
     ]
    },
    {
     "name": "stdout",
     "output_type": "stream",
     "text": [
      "Test Accuracy: 54.51%\n"
     ]
    }
   ],
   "source": [
    "vit.eval()\n",
    "\n",
    "correct_predictions = 0\n",
    "total_samples = 0\n",
    "\n",
    "model = vit.to('cuda')\n",
    "\n",
    "preds = []\n",
    "trues = []\n",
    "\n",
    "with torch.no_grad():\n",
    "    for inputs, labels in test_data_loader:\n",
    "        # Convert inputs and labels to torch tensors if they are not already\n",
    "        # inputs = inputs.float()\n",
    "        # labels = labels.long()\n",
    "\n",
    "        inputs, labels = inputs.to('cuda'), labels.to('cuda')\n",
    "\n",
    "        trues.extend(labels)\n",
    "\n",
    "        # Forward pass\n",
    "        outputs = model(inputs)\n",
    "\n",
    "        # Calculate accuracy\n",
    "        _, predicted_labels = torch.max(outputs, 1)\n",
    "        preds.extend(predicted_labels)\n",
    "\n",
    "        correct_predictions += (predicted_labels == labels).sum().item()\n",
    "        total_samples += labels.size(0)\n",
    "\n",
    "accuracy = correct_predictions / total_samples\n",
    "print(f'Test Accuracy: {accuracy * 100:.2f}%')"
   ]
  },
  {
   "cell_type": "code",
   "execution_count": 54,
   "metadata": {},
   "outputs": [
    {
     "data": {
      "image/png": "[encoded data removed]",
      "text/plain": [
       "<Figure size 640x480 with 2 Axes>"
      ]
     },
     "metadata": {},
     "output_type": "display_data"
    }
   ],
   "source": [
    "preds = [pred.detach().cpu().numpy() for pred in preds]\n",
    "trues = [true.detach().cpu().numpy() for true in trues]\n",
    "from sklearn.metrics import confusion_matrix, ConfusionMatrixDisplay\n",
    "import matplotlib.pyplot as plt\n",
    "\n",
    "ConfusionMatrixDisplay(confusion_matrix(trues, preds)).plot()\n",
    "plt.show()"
   ]
  },
  {
   "cell_type": "markdown",
   "metadata": {},
   "source": [
    "MNIST"
   ]
  },
  {
   "cell_type": "code",
   "execution_count": 45,
   "metadata": {},
   "outputs": [],
   "source": [
    "from torchvision.datasets import MNIST\n",
    "\n",
    "transform = transforms.Compose(\n",
    "    [transforms.ToTensor(),\n",
    "     transforms.Normalize((0.5,), (0.5,))])\n",
    "\n",
    "mnist_data_train = MNIST(\"dataset/\", train = True, download=True, transform=transform)\n",
    "mnist_data_test = MNIST(\"dataset/\",train = False, download=True, transform=transform)\n",
    "\n",
    "train_data_loader_mnist = torch.utils.data.DataLoader(mnist_data_train,\n",
    "                                          batch_size=16,\n",
    "                                          shuffle=True,\n",
    "                                          num_workers=8,\n",
    "                                          )\n",
    "\n",
    "\n",
    "test_data_loader_mnist = torch.utils.data.DataLoader(mnist_data_test,\n",
    "                                          batch_size=16,\n",
    "                                          shuffle=True,\n",
    "                                          num_workers=8,\n",
    "                                          )                                        "
   ]
  },
  {
   "cell_type": "code",
   "execution_count": 48,
   "metadata": {},
   "outputs": [
    {
     "name": "stdout",
     "output_type": "stream",
     "text": [
      "torch.Size([16, 1, 28, 28])\n",
      "torch.Size([16])\n"
     ]
    }
   ],
   "source": [
    "for input, output in train_data_loader_mnist:\n",
    "    print(input.shape)\n",
    "    print(output.shape)\n",
    "    break"
   ]
  },
  {
   "cell_type": "code",
   "execution_count": 56,
   "metadata": {},
   "outputs": [],
   "source": [
    "vit_mnist = ViT(channels=1, img_size=28, patch_size=14, emb_dim=768, d_ff=3072, n_layers=12, out_dim=10, heads=12)"
   ]
  },
  {
   "cell_type": "code",
   "execution_count": 57,
   "metadata": {},
   "outputs": [],
   "source": [
    "criterion = torch.nn.CrossEntropyLoss()\n",
    "# optimizer = Adam(vit.parameters())\n",
    "optimizer = torch.optim.SGD(vit_mnist.parameters(), lr=0.001, momentum=0.9)"
   ]
  },
  {
   "cell_type": "code",
   "execution_count": 58,
   "metadata": {},
   "outputs": [
    {
     "name": "stderr",
     "output_type": "stream",
     "text": [
      "Epoch...0/60: 100%|██████████| 3750/3750 [03:38<00:00, 17.19batch/s, loss=1.68]\n"
     ]
    },
    {
     "name": "stdout",
     "output_type": "stream",
     "text": [
      "Epoch 1/60, Train Loss: 1.6809, Validation Loss: 1.5576\n"
     ]
    },
    {
     "name": "stderr",
     "output_type": "stream",
     "text": [
      "Epoch...1/60: 100%|██████████| 3750/3750 [03:38<00:00, 17.14batch/s, loss=1.55]\n"
     ]
    },
    {
     "name": "stdout",
     "output_type": "stream",
     "text": [
      "Epoch 2/60, Train Loss: 1.5481, Validation Loss: 1.5197\n"
     ]
    },
    {
     "name": "stderr",
     "output_type": "stream",
     "text": [
      "Epoch...2/60: 100%|██████████| 3750/3750 [03:48<00:00, 16.42batch/s, loss=1.52]\n"
     ]
    },
    {
     "name": "stdout",
     "output_type": "stream",
     "text": [
      "Epoch 3/60, Train Loss: 1.5235, Validation Loss: 1.5108\n"
     ]
    },
    {
     "name": "stderr",
     "output_type": "stream",
     "text": [
      "Epoch...3/60: 100%|██████████| 3750/3750 [03:28<00:00, 17.99batch/s, loss=1.51]\n"
     ]
    },
    {
     "name": "stdout",
     "output_type": "stream",
     "text": [
      "Epoch 4/60, Train Loss: 1.5115, Validation Loss: 1.5091\n"
     ]
    },
    {
     "name": "stderr",
     "output_type": "stream",
     "text": [
      "Epoch...4/60: 100%|██████████| 3750/3750 [03:32<00:00, 17.65batch/s, loss=1.5] \n"
     ]
    },
    {
     "name": "stdout",
     "output_type": "stream",
     "text": [
      "Epoch 5/60, Train Loss: 1.5027, Validation Loss: 1.4961\n"
     ]
    },
    {
     "name": "stderr",
     "output_type": "stream",
     "text": [
      "Epoch...5/60: 100%|██████████| 3750/3750 [03:23<00:00, 18.43batch/s, loss=1.5] \n"
     ]
    },
    {
     "name": "stdout",
     "output_type": "stream",
     "text": [
      "Epoch 6/60, Train Loss: 1.4972, Validation Loss: 1.4958\n"
     ]
    },
    {
     "name": "stderr",
     "output_type": "stream",
     "text": [
      "Epoch...6/60: 100%|██████████| 3750/3750 [03:22<00:00, 18.50batch/s, loss=1.49]\n"
     ]
    },
    {
     "name": "stdout",
     "output_type": "stream",
     "text": [
      "Epoch 7/60, Train Loss: 1.4928, Validation Loss: 1.5040\n"
     ]
    },
    {
     "name": "stderr",
     "output_type": "stream",
     "text": [
      "Epoch...7/60: 100%|██████████| 3750/3750 [03:27<00:00, 18.05batch/s, loss=1.49]\n"
     ]
    },
    {
     "name": "stdout",
     "output_type": "stream",
     "text": [
      "Epoch 8/60, Train Loss: 1.4897, Validation Loss: 1.4870\n"
     ]
    },
    {
     "name": "stderr",
     "output_type": "stream",
     "text": [
      "Epoch...8/60: 100%|██████████| 3750/3750 [03:26<00:00, 18.14batch/s, loss=1.49]\n"
     ]
    },
    {
     "name": "stdout",
     "output_type": "stream",
     "text": [
      "Epoch 9/60, Train Loss: 1.4879, Validation Loss: 1.4873\n"
     ]
    },
    {
     "name": "stderr",
     "output_type": "stream",
     "text": [
      "Epoch...9/60: 100%|██████████| 3750/3750 [03:35<00:00, 17.39batch/s, loss=1.49]\n"
     ]
    },
    {
     "name": "stdout",
     "output_type": "stream",
     "text": [
      "Epoch 10/60, Train Loss: 1.4855, Validation Loss: 1.4868\n"
     ]
    },
    {
     "name": "stderr",
     "output_type": "stream",
     "text": [
      "Epoch...10/60: 100%|██████████| 3750/3750 [03:30<00:00, 17.84batch/s, loss=1.48]\n"
     ]
    },
    {
     "name": "stdout",
     "output_type": "stream",
     "text": [
      "Epoch 11/60, Train Loss: 1.4830, Validation Loss: 1.4857\n"
     ]
    },
    {
     "name": "stderr",
     "output_type": "stream",
     "text": [
      "Epoch...11/60: 100%|██████████| 3750/3750 [03:29<00:00, 17.92batch/s, loss=1.48]\n"
     ]
    },
    {
     "name": "stdout",
     "output_type": "stream",
     "text": [
      "Epoch 12/60, Train Loss: 1.4812, Validation Loss: 1.4849\n"
     ]
    },
    {
     "name": "stderr",
     "output_type": "stream",
     "text": [
      "Epoch...12/60: 100%|██████████| 3750/3750 [03:22<00:00, 18.52batch/s, loss=1.48]\n"
     ]
    },
    {
     "name": "stdout",
     "output_type": "stream",
     "text": [
      "Epoch 13/60, Train Loss: 1.4808, Validation Loss: 1.4815\n"
     ]
    },
    {
     "name": "stderr",
     "output_type": "stream",
     "text": [
      "Epoch...13/60: 100%|██████████| 3750/3750 [03:35<00:00, 17.39batch/s, loss=1.48]\n"
     ]
    },
    {
     "name": "stdout",
     "output_type": "stream",
     "text": [
      "Epoch 14/60, Train Loss: 1.4792, Validation Loss: 1.4846\n"
     ]
    },
    {
     "name": "stderr",
     "output_type": "stream",
     "text": [
      "Epoch...14/60: 100%|██████████| 3750/3750 [03:53<00:00, 16.09batch/s, loss=1.48]\n"
     ]
    },
    {
     "name": "stdout",
     "output_type": "stream",
     "text": [
      "Epoch 15/60, Train Loss: 1.4791, Validation Loss: 1.4787\n"
     ]
    },
    {
     "name": "stderr",
     "output_type": "stream",
     "text": [
      "Epoch...15/60: 100%|██████████| 3750/3750 [03:58<00:00, 15.71batch/s, loss=1.48]\n"
     ]
    },
    {
     "name": "stdout",
     "output_type": "stream",
     "text": [
      "Epoch 16/60, Train Loss: 1.4770, Validation Loss: 1.4813\n"
     ]
    },
    {
     "name": "stderr",
     "output_type": "stream",
     "text": [
      "Epoch...16/60: 100%|██████████| 3750/3750 [03:55<00:00, 15.91batch/s, loss=1.48]\n"
     ]
    },
    {
     "name": "stdout",
     "output_type": "stream",
     "text": [
      "Epoch 17/60, Train Loss: 1.4762, Validation Loss: 1.4818\n"
     ]
    },
    {
     "name": "stderr",
     "output_type": "stream",
     "text": [
      "Epoch...17/60: 100%|██████████| 3750/3750 [03:52<00:00, 16.10batch/s, loss=1.47]\n"
     ]
    },
    {
     "name": "stdout",
     "output_type": "stream",
     "text": [
      "Epoch 18/60, Train Loss: 1.4749, Validation Loss: 1.4794\n"
     ]
    },
    {
     "name": "stderr",
     "output_type": "stream",
     "text": [
      "Epoch...18/60: 100%|██████████| 3750/3750 [03:29<00:00, 17.86batch/s, loss=1.47]\n"
     ]
    },
    {
     "name": "stdout",
     "output_type": "stream",
     "text": [
      "Epoch 19/60, Train Loss: 1.4739, Validation Loss: 1.4812\n"
     ]
    },
    {
     "name": "stderr",
     "output_type": "stream",
     "text": [
      "Epoch...19/60: 100%|██████████| 3750/3750 [03:26<00:00, 18.16batch/s, loss=1.47]\n"
     ]
    },
    {
     "name": "stdout",
     "output_type": "stream",
     "text": [
      "Epoch 20/60, Train Loss: 1.4744, Validation Loss: 1.4821\n",
      "Early stopping after 20 epochs without improvement.\n"
     ]
    }
   ],
   "source": [
    "from utils.train import train\n",
    "\n",
    "train(vit_mnist, train_data_loader_mnist, test_data_loader_mnist, criterion, optimizer, 60, patience=5)"
   ]
  },
  {
   "cell_type": "code",
   "execution_count": 59,
   "metadata": {},
   "outputs": [
    {
     "name": "stderr",
     "output_type": "stream",
     "text": [
      "c:\\Users\\damig\\anaconda3\\envs\\pracownia_naukowa\\lib\\site-packages\\torch\\nn\\modules\\module.py:1518: UserWarning: Implicit dimension choice for softmax has been deprecated. Change the call to include dim=X as an argument.\n",
      "  return self._call_impl(*args, **kwargs)\n"
     ]
    },
    {
     "name": "stdout",
     "output_type": "stream",
     "text": [
      "Test Accuracy: 98.00%\n"
     ]
    }
   ],
   "source": [
    "vit_mnist.eval()\n",
    "\n",
    "correct_predictions = 0\n",
    "total_samples = 0\n",
    "\n",
    "vit_mnist = vit_mnist.to('cuda')\n",
    "\n",
    "preds = []\n",
    "trues = []\n",
    "\n",
    "with torch.no_grad():\n",
    "    for inputs, labels in test_data_loader_mnist:\n",
    "        # Convert inputs and labels to torch tensors if they are not already\n",
    "        # inputs = inputs.float()\n",
    "        # labels = labels.long()\n",
    "\n",
    "        inputs, labels = inputs.to('cuda'), labels.to('cuda')\n",
    "\n",
    "        trues.extend(labels)\n",
    "\n",
    "        # Forward pass\n",
    "        outputs = vit_mnist(inputs)\n",
    "\n",
    "        # Calculate accuracy\n",
    "        _, predicted_labels = torch.max(outputs, 1)\n",
    "        preds.extend(predicted_labels)\n",
    "\n",
    "        correct_predictions += (predicted_labels == labels).sum().item()\n",
    "        total_samples += labels.size(0)\n",
    "\n",
    "accuracy = correct_predictions / total_samples\n",
    "print(f'Test Accuracy: {accuracy * 100:.2f}%')"
   ]
  },
  {
   "cell_type": "code",
   "execution_count": 60,
   "metadata": {},
   "outputs": [
    {
     "data": {
      "image/png": "[encoded data removed]",
      "text/plain": [
       "<Figure size 640x480 with 2 Axes>"
      ]
     },
     "metadata": {},
     "output_type": "display_data"
    }
   ],
   "source": [
    "preds = [pred.detach().cpu().numpy() for pred in preds]\n",
    "trues = [true.detach().cpu().numpy() for true in trues]\n",
    "from sklearn.metrics import confusion_matrix, ConfusionMatrixDisplay\n",
    "import matplotlib.pyplot as plt\n",
    "\n",
    "ConfusionMatrixDisplay(confusion_matrix(trues, preds)).plot()\n",
    "plt.show()"
   ]
  },
  {
   "cell_type": "markdown",
   "metadata": {},
   "source": [
    "Save models"
   ]
  },
  {
   "cell_type": "code",
   "execution_count": 61,
   "metadata": {},
   "outputs": [],
   "source": [
    "torch.save(vit.state_dict(), 'models/vit_cifar10')\n",
    "torch.save(vit_mnist.state_dict(), 'models/vit_mnist')"
   ]
  },
  {
   "cell_type": "markdown",
   "metadata": {},
   "source": [
    "Experimenting with decoder"
   ]
  },
  {
   "cell_type": "code",
   "execution_count": 3,
   "metadata": {},
   "outputs": [],
   "source": [
    "vit_mnist_gen = ViT(channels=1, img_size=28, patch_size=14, emb_dim=768, d_ff=3072, n_layers=12, out_dim=14, heads=12)"
   ]
  },
  {
   "cell_type": "code",
   "execution_count": 4,
   "metadata": {},
   "outputs": [],
   "source": [
    "batch_size = 32"
   ]
  },
  {
   "cell_type": "code",
   "execution_count": 5,
   "metadata": {},
   "outputs": [
    {
     "data": {
      "text/plain": [
       "====================================================================================================\n",
       "Layer (type:depth-idx)                             Output Shape              Param #\n",
       "====================================================================================================\n",
       "ViT                                                [32, 1, 28, 28]           4,608\n",
       "├─PatchEmbedding: 1-1                              [32, 4, 768]              --\n",
       "│    └─Sequential: 2-1                             [32, 4, 768]              --\n",
       "│    │    └─Rearrange: 3-1                         [32, 4, 196]              --\n",
       "│    │    └─Linear: 3-2                            [32, 4, 768]              151,296\n",
       "├─ModuleList: 1-2                                  --                        --\n",
       "│    └─EncoderLayer: 2-2                           [32, 4, 768]              --\n",
       "│    │    └─MultiHeadSelfAttentionBlock: 3-3       [32, 4, 768]              2,363,904\n",
       "│    │    └─Dropout: 3-4                           [32, 4, 768]              --\n",
       "│    │    └─LayerNorm: 3-5                         [32, 4, 768]              1,536\n",
       "│    │    └─FeedForward: 3-6                       [32, 4, 768]              4,722,432\n",
       "│    │    └─Dropout: 3-7                           [32, 4, 768]              --\n",
       "│    │    └─LayerNorm: 3-8                         [32, 4, 768]              1,536\n",
       "│    └─EncoderLayer: 2-3                           [32, 4, 768]              --\n",
       "│    │    └─MultiHeadSelfAttentionBlock: 3-9       [32, 4, 768]              2,363,904\n",
       "│    │    └─Dropout: 3-10                          [32, 4, 768]              --\n",
       "│    │    └─LayerNorm: 3-11                        [32, 4, 768]              1,536\n",
       "│    │    └─FeedForward: 3-12                      [32, 4, 768]              4,722,432\n",
       "│    │    └─Dropout: 3-13                          [32, 4, 768]              --\n",
       "│    │    └─LayerNorm: 3-14                        [32, 4, 768]              1,536\n",
       "│    └─EncoderLayer: 2-4                           [32, 4, 768]              --\n",
       "│    │    └─MultiHeadSelfAttentionBlock: 3-15      [32, 4, 768]              2,363,904\n",
       "│    │    └─Dropout: 3-16                          [32, 4, 768]              --\n",
       "│    │    └─LayerNorm: 3-17                        [32, 4, 768]              1,536\n",
       "│    │    └─FeedForward: 3-18                      [32, 4, 768]              4,722,432\n",
       "│    │    └─Dropout: 3-19                          [32, 4, 768]              --\n",
       "│    │    └─LayerNorm: 3-20                        [32, 4, 768]              1,536\n",
       "│    └─EncoderLayer: 2-5                           [32, 4, 768]              --\n",
       "│    │    └─MultiHeadSelfAttentionBlock: 3-21      [32, 4, 768]              2,363,904\n",
       "│    │    └─Dropout: 3-22                          [32, 4, 768]              --\n",
       "│    │    └─LayerNorm: 3-23                        [32, 4, 768]              1,536\n",
       "│    │    └─FeedForward: 3-24                      [32, 4, 768]              4,722,432\n",
       "│    │    └─Dropout: 3-25                          [32, 4, 768]              --\n",
       "│    │    └─LayerNorm: 3-26                        [32, 4, 768]              1,536\n",
       "│    └─EncoderLayer: 2-6                           [32, 4, 768]              --\n",
       "│    │    └─MultiHeadSelfAttentionBlock: 3-27      [32, 4, 768]              2,363,904\n",
       "│    │    └─Dropout: 3-28                          [32, 4, 768]              --\n",
       "│    │    └─LayerNorm: 3-29                        [32, 4, 768]              1,536\n",
       "│    │    └─FeedForward: 3-30                      [32, 4, 768]              4,722,432\n",
       "│    │    └─Dropout: 3-31                          [32, 4, 768]              --\n",
       "│    │    └─LayerNorm: 3-32                        [32, 4, 768]              1,536\n",
       "│    └─EncoderLayer: 2-7                           [32, 4, 768]              --\n",
       "│    │    └─MultiHeadSelfAttentionBlock: 3-33      [32, 4, 768]              2,363,904\n",
       "│    │    └─Dropout: 3-34                          [32, 4, 768]              --\n",
       "│    │    └─LayerNorm: 3-35                        [32, 4, 768]              1,536\n",
       "│    │    └─FeedForward: 3-36                      [32, 4, 768]              4,722,432\n",
       "│    │    └─Dropout: 3-37                          [32, 4, 768]              --\n",
       "│    │    └─LayerNorm: 3-38                        [32, 4, 768]              1,536\n",
       "│    └─EncoderLayer: 2-8                           [32, 4, 768]              --\n",
       "│    │    └─MultiHeadSelfAttentionBlock: 3-39      [32, 4, 768]              2,363,904\n",
       "│    │    └─Dropout: 3-40                          [32, 4, 768]              --\n",
       "│    │    └─LayerNorm: 3-41                        [32, 4, 768]              1,536\n",
       "│    │    └─FeedForward: 3-42                      [32, 4, 768]              4,722,432\n",
       "│    │    └─Dropout: 3-43                          [32, 4, 768]              --\n",
       "│    │    └─LayerNorm: 3-44                        [32, 4, 768]              1,536\n",
       "│    └─EncoderLayer: 2-9                           [32, 4, 768]              --\n",
       "│    │    └─MultiHeadSelfAttentionBlock: 3-45      [32, 4, 768]              2,363,904\n",
       "│    │    └─Dropout: 3-46                          [32, 4, 768]              --\n",
       "│    │    └─LayerNorm: 3-47                        [32, 4, 768]              1,536\n",
       "│    │    └─FeedForward: 3-48                      [32, 4, 768]              4,722,432\n",
       "│    │    └─Dropout: 3-49                          [32, 4, 768]              --\n",
       "│    │    └─LayerNorm: 3-50                        [32, 4, 768]              1,536\n",
       "│    └─EncoderLayer: 2-10                          [32, 4, 768]              --\n",
       "│    │    └─MultiHeadSelfAttentionBlock: 3-51      [32, 4, 768]              2,363,904\n",
       "│    │    └─Dropout: 3-52                          [32, 4, 768]              --\n",
       "│    │    └─LayerNorm: 3-53                        [32, 4, 768]              1,536\n",
       "│    │    └─FeedForward: 3-54                      [32, 4, 768]              4,722,432\n",
       "│    │    └─Dropout: 3-55                          [32, 4, 768]              --\n",
       "│    │    └─LayerNorm: 3-56                        [32, 4, 768]              1,536\n",
       "│    └─EncoderLayer: 2-11                          [32, 4, 768]              --\n",
       "│    │    └─MultiHeadSelfAttentionBlock: 3-57      [32, 4, 768]              2,363,904\n",
       "│    │    └─Dropout: 3-58                          [32, 4, 768]              --\n",
       "│    │    └─LayerNorm: 3-59                        [32, 4, 768]              1,536\n",
       "│    │    └─FeedForward: 3-60                      [32, 4, 768]              4,722,432\n",
       "│    │    └─Dropout: 3-61                          [32, 4, 768]              --\n",
       "│    │    └─LayerNorm: 3-62                        [32, 4, 768]              1,536\n",
       "│    └─EncoderLayer: 2-12                          [32, 4, 768]              --\n",
       "│    │    └─MultiHeadSelfAttentionBlock: 3-63      [32, 4, 768]              2,363,904\n",
       "│    │    └─Dropout: 3-64                          [32, 4, 768]              --\n",
       "│    │    └─LayerNorm: 3-65                        [32, 4, 768]              1,536\n",
       "│    │    └─FeedForward: 3-66                      [32, 4, 768]              4,722,432\n",
       "│    │    └─Dropout: 3-67                          [32, 4, 768]              --\n",
       "│    │    └─LayerNorm: 3-68                        [32, 4, 768]              1,536\n",
       "│    └─EncoderLayer: 2-13                          [32, 4, 768]              --\n",
       "│    │    └─MultiHeadSelfAttentionBlock: 3-69      [32, 4, 768]              2,363,904\n",
       "│    │    └─Dropout: 3-70                          [32, 4, 768]              --\n",
       "│    │    └─LayerNorm: 3-71                        [32, 4, 768]              1,536\n",
       "│    │    └─FeedForward: 3-72                      [32, 4, 768]              4,722,432\n",
       "│    │    └─Dropout: 3-73                          [32, 4, 768]              --\n",
       "│    │    └─LayerNorm: 3-74                        [32, 4, 768]              1,536\n",
       "├─ModuleList: 1-3                                  --                        --\n",
       "│    └─ViTDecoderLayer: 2-14                       [32, 4, 768]              --\n",
       "│    │    └─MultiHeadAttention: 3-75               [32, 4, 768]              2,362,368\n",
       "│    │    └─Dropout: 3-76                          [32, 4, 768]              --\n",
       "│    │    └─LayerNorm: 3-77                        [32, 4, 768]              1,536\n",
       "│    │    └─MultiHeadAttention: 3-78               [32, 4, 768]              2,362,368\n",
       "│    │    └─Dropout: 3-79                          [32, 4, 768]              --\n",
       "│    │    └─LayerNorm: 3-80                        [32, 4, 768]              1,536\n",
       "│    │    └─FeedForward: 3-81                      [32, 4, 768]              4,722,432\n",
       "│    │    └─Dropout: 3-82                          [32, 4, 768]              --\n",
       "│    │    └─LayerNorm: 3-83                        [32, 4, 768]              1,536\n",
       "│    └─ViTDecoderLayer: 2-15                       [32, 4, 768]              --\n",
       "│    │    └─MultiHeadAttention: 3-84               [32, 4, 768]              2,362,368\n",
       "│    │    └─Dropout: 3-85                          [32, 4, 768]              --\n",
       "│    │    └─LayerNorm: 3-86                        [32, 4, 768]              1,536\n",
       "│    │    └─MultiHeadAttention: 3-87               [32, 4, 768]              2,362,368\n",
       "│    │    └─Dropout: 3-88                          [32, 4, 768]              --\n",
       "│    │    └─LayerNorm: 3-89                        [32, 4, 768]              1,536\n",
       "│    │    └─FeedForward: 3-90                      [32, 4, 768]              4,722,432\n",
       "│    │    └─Dropout: 3-91                          [32, 4, 768]              --\n",
       "│    │    └─LayerNorm: 3-92                        [32, 4, 768]              1,536\n",
       "│    └─ViTDecoderLayer: 2-16                       [32, 4, 768]              --\n",
       "│    │    └─MultiHeadAttention: 3-93               [32, 4, 768]              2,362,368\n",
       "│    │    └─Dropout: 3-94                          [32, 4, 768]              --\n",
       "│    │    └─LayerNorm: 3-95                        [32, 4, 768]              1,536\n",
       "│    │    └─MultiHeadAttention: 3-96               [32, 4, 768]              2,362,368\n",
       "│    │    └─Dropout: 3-97                          [32, 4, 768]              --\n",
       "│    │    └─LayerNorm: 3-98                        [32, 4, 768]              1,536\n",
       "│    │    └─FeedForward: 3-99                      [32, 4, 768]              4,722,432\n",
       "│    │    └─Dropout: 3-100                         [32, 4, 768]              --\n",
       "│    │    └─LayerNorm: 3-101                       [32, 4, 768]              1,536\n",
       "│    └─ViTDecoderLayer: 2-17                       [32, 4, 768]              --\n",
       "│    │    └─MultiHeadAttention: 3-102              [32, 4, 768]              2,362,368\n",
       "│    │    └─Dropout: 3-103                         [32, 4, 768]              --\n",
       "│    │    └─LayerNorm: 3-104                       [32, 4, 768]              1,536\n",
       "│    │    └─MultiHeadAttention: 3-105              [32, 4, 768]              2,362,368\n",
       "│    │    └─Dropout: 3-106                         [32, 4, 768]              --\n",
       "│    │    └─LayerNorm: 3-107                       [32, 4, 768]              1,536\n",
       "│    │    └─FeedForward: 3-108                     [32, 4, 768]              4,722,432\n",
       "│    │    └─Dropout: 3-109                         [32, 4, 768]              --\n",
       "│    │    └─LayerNorm: 3-110                       [32, 4, 768]              1,536\n",
       "│    └─ViTDecoderLayer: 2-18                       [32, 4, 768]              --\n",
       "│    │    └─MultiHeadAttention: 3-111              [32, 4, 768]              2,362,368\n",
       "│    │    └─Dropout: 3-112                         [32, 4, 768]              --\n",
       "│    │    └─LayerNorm: 3-113                       [32, 4, 768]              1,536\n",
       "│    │    └─MultiHeadAttention: 3-114              [32, 4, 768]              2,362,368\n",
       "│    │    └─Dropout: 3-115                         [32, 4, 768]              --\n",
       "│    │    └─LayerNorm: 3-116                       [32, 4, 768]              1,536\n",
       "│    │    └─FeedForward: 3-117                     [32, 4, 768]              4,722,432\n",
       "│    │    └─Dropout: 3-118                         [32, 4, 768]              --\n",
       "│    │    └─LayerNorm: 3-119                       [32, 4, 768]              1,536\n",
       "│    └─ViTDecoderLayer: 2-19                       [32, 4, 768]              --\n",
       "│    │    └─MultiHeadAttention: 3-120              [32, 4, 768]              2,362,368\n",
       "│    │    └─Dropout: 3-121                         [32, 4, 768]              --\n",
       "│    │    └─LayerNorm: 3-122                       [32, 4, 768]              1,536\n",
       "│    │    └─MultiHeadAttention: 3-123              [32, 4, 768]              2,362,368\n",
       "│    │    └─Dropout: 3-124                         [32, 4, 768]              --\n",
       "│    │    └─LayerNorm: 3-125                       [32, 4, 768]              1,536\n",
       "│    │    └─FeedForward: 3-126                     [32, 4, 768]              4,722,432\n",
       "│    │    └─Dropout: 3-127                         [32, 4, 768]              --\n",
       "│    │    └─LayerNorm: 3-128                       [32, 4, 768]              1,536\n",
       "│    └─ViTDecoderLayer: 2-20                       [32, 4, 768]              --\n",
       "│    │    └─MultiHeadAttention: 3-129              [32, 4, 768]              2,362,368\n",
       "│    │    └─Dropout: 3-130                         [32, 4, 768]              --\n",
       "│    │    └─LayerNorm: 3-131                       [32, 4, 768]              1,536\n",
       "│    │    └─MultiHeadAttention: 3-132              [32, 4, 768]              2,362,368\n",
       "│    │    └─Dropout: 3-133                         [32, 4, 768]              --\n",
       "│    │    └─LayerNorm: 3-134                       [32, 4, 768]              1,536\n",
       "│    │    └─FeedForward: 3-135                     [32, 4, 768]              4,722,432\n",
       "│    │    └─Dropout: 3-136                         [32, 4, 768]              --\n",
       "│    │    └─LayerNorm: 3-137                       [32, 4, 768]              1,536\n",
       "│    └─ViTDecoderLayer: 2-21                       [32, 4, 768]              --\n",
       "│    │    └─MultiHeadAttention: 3-138              [32, 4, 768]              2,362,368\n",
       "│    │    └─Dropout: 3-139                         [32, 4, 768]              --\n",
       "│    │    └─LayerNorm: 3-140                       [32, 4, 768]              1,536\n",
       "│    │    └─MultiHeadAttention: 3-141              [32, 4, 768]              2,362,368\n",
       "│    │    └─Dropout: 3-142                         [32, 4, 768]              --\n",
       "│    │    └─LayerNorm: 3-143                       [32, 4, 768]              1,536\n",
       "│    │    └─FeedForward: 3-144                     [32, 4, 768]              4,722,432\n",
       "│    │    └─Dropout: 3-145                         [32, 4, 768]              --\n",
       "│    │    └─LayerNorm: 3-146                       [32, 4, 768]              1,536\n",
       "│    └─ViTDecoderLayer: 2-22                       [32, 4, 768]              --\n",
       "│    │    └─MultiHeadAttention: 3-147              [32, 4, 768]              2,362,368\n",
       "│    │    └─Dropout: 3-148                         [32, 4, 768]              --\n",
       "│    │    └─LayerNorm: 3-149                       [32, 4, 768]              1,536\n",
       "│    │    └─MultiHeadAttention: 3-150              [32, 4, 768]              2,362,368\n",
       "│    │    └─Dropout: 3-151                         [32, 4, 768]              --\n",
       "│    │    └─LayerNorm: 3-152                       [32, 4, 768]              1,536\n",
       "│    │    └─FeedForward: 3-153                     [32, 4, 768]              4,722,432\n",
       "│    │    └─Dropout: 3-154                         [32, 4, 768]              --\n",
       "│    │    └─LayerNorm: 3-155                       [32, 4, 768]              1,536\n",
       "│    └─ViTDecoderLayer: 2-23                       [32, 4, 768]              --\n",
       "│    │    └─MultiHeadAttention: 3-156              [32, 4, 768]              2,362,368\n",
       "│    │    └─Dropout: 3-157                         [32, 4, 768]              --\n",
       "│    │    └─LayerNorm: 3-158                       [32, 4, 768]              1,536\n",
       "│    │    └─MultiHeadAttention: 3-159              [32, 4, 768]              2,362,368\n",
       "│    │    └─Dropout: 3-160                         [32, 4, 768]              --\n",
       "│    │    └─LayerNorm: 3-161                       [32, 4, 768]              1,536\n",
       "│    │    └─FeedForward: 3-162                     [32, 4, 768]              4,722,432\n",
       "│    │    └─Dropout: 3-163                         [32, 4, 768]              --\n",
       "│    │    └─LayerNorm: 3-164                       [32, 4, 768]              1,536\n",
       "│    └─ViTDecoderLayer: 2-24                       [32, 4, 768]              --\n",
       "│    │    └─MultiHeadAttention: 3-165              [32, 4, 768]              2,362,368\n",
       "│    │    └─Dropout: 3-166                         [32, 4, 768]              --\n",
       "│    │    └─LayerNorm: 3-167                       [32, 4, 768]              1,536\n",
       "│    │    └─MultiHeadAttention: 3-168              [32, 4, 768]              2,362,368\n",
       "│    │    └─Dropout: 3-169                         [32, 4, 768]              --\n",
       "│    │    └─LayerNorm: 3-170                       [32, 4, 768]              1,536\n",
       "│    │    └─FeedForward: 3-171                     [32, 4, 768]              4,722,432\n",
       "│    │    └─Dropout: 3-172                         [32, 4, 768]              --\n",
       "│    │    └─LayerNorm: 3-173                       [32, 4, 768]              1,536\n",
       "│    └─ViTDecoderLayer: 2-25                       [32, 4, 768]              --\n",
       "│    │    └─MultiHeadAttention: 3-174              [32, 4, 768]              2,362,368\n",
       "│    │    └─Dropout: 3-175                         [32, 4, 768]              --\n",
       "│    │    └─LayerNorm: 3-176                       [32, 4, 768]              1,536\n",
       "│    │    └─MultiHeadAttention: 3-177              [32, 4, 768]              2,362,368\n",
       "│    │    └─Dropout: 3-178                         [32, 4, 768]              --\n",
       "│    │    └─LayerNorm: 3-179                       [32, 4, 768]              1,536\n",
       "│    │    └─FeedForward: 3-180                     [32, 4, 768]              4,722,432\n",
       "│    │    └─Dropout: 3-181                         [32, 4, 768]              --\n",
       "│    │    └─LayerNorm: 3-182                       [32, 4, 768]              1,536\n",
       "├─Linear: 1-4                                      [32, 4, 196]              150,724\n",
       "├─Rearrange: 1-5                                   [32, 1, 28, 28]           --\n",
       "====================================================================================================\n",
       "Total params: 198,800,836\n",
       "Trainable params: 198,800,836\n",
       "Non-trainable params: 0\n",
       "Total mult-adds (G): 5.45\n",
       "====================================================================================================\n",
       "Input size (MB): 0.10\n",
       "Forward/backward pass size (MB): 227.48\n",
       "Params size (MB): 681.79\n",
       "Estimated Total Size (MB): 909.37\n",
       "===================================================================================================="
      ]
     },
     "execution_count": 5,
     "metadata": {},
     "output_type": "execute_result"
    }
   ],
   "source": [
    "summary(vit_mnist_gen, input_size=(batch_size, 1, 28, 28))"
   ]
  },
  {
   "cell_type": "code",
   "execution_count": 6,
   "metadata": {},
   "outputs": [],
   "source": [
    "import torchvision.transforms as transforms\n",
    "from torchvision.datasets import CIFAR10\n",
    "from torchvision.transforms import ToTensor\n",
    "from torch.nn.functional import one_hot\n",
    "\n",
    "from torch.utils.data import DataLoader\n",
    "\n",
    "from torchvision.datasets import MNIST\n",
    "\n",
    "transform = transforms.Compose(\n",
    "    [transforms.ToTensor(),\n",
    "     transforms.Normalize((0.5,), (0.5,))])\n",
    "\n",
    "train_dataset = MNIST(root='./data', train=True, download=True, transform=transform)\n",
    "test_dataset = MNIST(root='./data', train=False, download=True, transform=transform)\n",
    "\n",
    "train_loader = DataLoader(train_dataset, batch_size=batch_size, shuffle=True, num_workers=8)\n",
    "test_loader = DataLoader(test_dataset, batch_size=batch_size, shuffle=False, num_workers=8)"
   ]
  },
  {
   "cell_type": "code",
   "execution_count": 7,
   "metadata": {},
   "outputs": [],
   "source": [
    "vit_mnist_gen = vit_mnist_gen.to('cuda')\n",
    "\n",
    "criterion = nn.MSELoss()\n",
    "optimizer = torch.optim.Adam(vit_mnist_gen.parameters(), lr=0.001)"
   ]
  },
  {
   "cell_type": "code",
   "execution_count": 10,
   "metadata": {},
   "outputs": [
    {
     "name": "stdout",
     "output_type": "stream",
     "text": [
      "torch.Size([32, 1, 28, 28])\n",
      "torch.Size([32, 1, 28, 28])\n"
     ]
    },
    {
     "ename": "RuntimeError",
     "evalue": "The size of tensor a (28) must match the size of tensor b (4) at non-singleton dimension 3",
     "output_type": "error",
     "traceback": [
      "\u001b[1;31m---------------------------------------------------------------------------\u001b[0m",
      "\u001b[1;31mRuntimeError\u001b[0m                              Traceback (most recent call last)",
      "Cell \u001b[1;32mIn[10], line 24\u001b[0m\n\u001b[0;32m     21\u001b[0m optimizer\u001b[38;5;241m.\u001b[39mzero_grad()\n\u001b[0;32m     23\u001b[0m \u001b[38;5;66;03m# Forward pass\u001b[39;00m\n\u001b[1;32m---> 24\u001b[0m output \u001b[38;5;241m=\u001b[39m \u001b[43mvit_mnist_gen\u001b[49m\u001b[43m(\u001b[49m\u001b[43mdata\u001b[49m\u001b[43m,\u001b[49m\u001b[43m \u001b[49m\u001b[43mmask\u001b[49m\u001b[38;5;241;43m=\u001b[39;49m\u001b[43mmask\u001b[49m\u001b[43m)\u001b[49m\n\u001b[0;32m     26\u001b[0m \u001b[38;5;66;03m# Calculate loss\u001b[39;00m\n\u001b[0;32m     27\u001b[0m loss \u001b[38;5;241m=\u001b[39m criterion(output, data)\n",
      "File \u001b[1;32mc:\\Users\\damig\\anaconda3\\envs\\pracownia_naukowa\\lib\\site-packages\\torch\\nn\\modules\\module.py:1518\u001b[0m, in \u001b[0;36mModule._wrapped_call_impl\u001b[1;34m(self, *args, **kwargs)\u001b[0m\n\u001b[0;32m   1516\u001b[0m     \u001b[38;5;28;01mreturn\u001b[39;00m \u001b[38;5;28mself\u001b[39m\u001b[38;5;241m.\u001b[39m_compiled_call_impl(\u001b[38;5;241m*\u001b[39margs, \u001b[38;5;241m*\u001b[39m\u001b[38;5;241m*\u001b[39mkwargs)  \u001b[38;5;66;03m# type: ignore[misc]\u001b[39;00m\n\u001b[0;32m   1517\u001b[0m \u001b[38;5;28;01melse\u001b[39;00m:\n\u001b[1;32m-> 1518\u001b[0m     \u001b[38;5;28;01mreturn\u001b[39;00m \u001b[38;5;28mself\u001b[39m\u001b[38;5;241m.\u001b[39m_call_impl(\u001b[38;5;241m*\u001b[39margs, \u001b[38;5;241m*\u001b[39m\u001b[38;5;241m*\u001b[39mkwargs)\n",
      "File \u001b[1;32mc:\\Users\\damig\\anaconda3\\envs\\pracownia_naukowa\\lib\\site-packages\\torch\\nn\\modules\\module.py:1527\u001b[0m, in \u001b[0;36mModule._call_impl\u001b[1;34m(self, *args, **kwargs)\u001b[0m\n\u001b[0;32m   1522\u001b[0m \u001b[38;5;66;03m# If we don't have any hooks, we want to skip the rest of the logic in\u001b[39;00m\n\u001b[0;32m   1523\u001b[0m \u001b[38;5;66;03m# this function, and just call forward.\u001b[39;00m\n\u001b[0;32m   1524\u001b[0m \u001b[38;5;28;01mif\u001b[39;00m \u001b[38;5;129;01mnot\u001b[39;00m (\u001b[38;5;28mself\u001b[39m\u001b[38;5;241m.\u001b[39m_backward_hooks \u001b[38;5;129;01mor\u001b[39;00m \u001b[38;5;28mself\u001b[39m\u001b[38;5;241m.\u001b[39m_backward_pre_hooks \u001b[38;5;129;01mor\u001b[39;00m \u001b[38;5;28mself\u001b[39m\u001b[38;5;241m.\u001b[39m_forward_hooks \u001b[38;5;129;01mor\u001b[39;00m \u001b[38;5;28mself\u001b[39m\u001b[38;5;241m.\u001b[39m_forward_pre_hooks\n\u001b[0;32m   1525\u001b[0m         \u001b[38;5;129;01mor\u001b[39;00m _global_backward_pre_hooks \u001b[38;5;129;01mor\u001b[39;00m _global_backward_hooks\n\u001b[0;32m   1526\u001b[0m         \u001b[38;5;129;01mor\u001b[39;00m _global_forward_hooks \u001b[38;5;129;01mor\u001b[39;00m _global_forward_pre_hooks):\n\u001b[1;32m-> 1527\u001b[0m     \u001b[38;5;28;01mreturn\u001b[39;00m forward_call(\u001b[38;5;241m*\u001b[39margs, \u001b[38;5;241m*\u001b[39m\u001b[38;5;241m*\u001b[39mkwargs)\n\u001b[0;32m   1529\u001b[0m \u001b[38;5;28;01mtry\u001b[39;00m:\n\u001b[0;32m   1530\u001b[0m     result \u001b[38;5;241m=\u001b[39m \u001b[38;5;28;01mNone\u001b[39;00m\n",
      "File \u001b[1;32mc:\\Users\\damig\\pracownia_naukowa\\modules\\vit.py:65\u001b[0m, in \u001b[0;36mViT.forward\u001b[1;34m(self, img, mask)\u001b[0m\n\u001b[0;32m     63\u001b[0m \u001b[38;5;66;03m# Transformer Decoder layers with masking\u001b[39;00m\n\u001b[0;32m     64\u001b[0m \u001b[38;5;28;01mfor\u001b[39;00m i \u001b[38;5;129;01min\u001b[39;00m \u001b[38;5;28mrange\u001b[39m(\u001b[38;5;28mself\u001b[39m\u001b[38;5;241m.\u001b[39mn_layers):\n\u001b[1;32m---> 65\u001b[0m     x \u001b[38;5;241m=\u001b[39m \u001b[38;5;28;43mself\u001b[39;49m\u001b[38;5;241;43m.\u001b[39;49m\u001b[43mdecoder_layers\u001b[49m\u001b[43m[\u001b[49m\u001b[43mi\u001b[49m\u001b[43m]\u001b[49m\u001b[43m(\u001b[49m\u001b[43mx\u001b[49m\u001b[43m,\u001b[49m\u001b[43m \u001b[49m\u001b[43mmemory\u001b[49m\u001b[38;5;241;43m=\u001b[39;49m\u001b[43mx\u001b[49m\u001b[43m,\u001b[49m\u001b[43m \u001b[49m\u001b[43mmask\u001b[49m\u001b[38;5;241;43m=\u001b[39;49m\u001b[43mmask\u001b[49m\u001b[43m)\u001b[49m\n\u001b[0;32m     67\u001b[0m x \u001b[38;5;241m=\u001b[39m \u001b[38;5;28mself\u001b[39m\u001b[38;5;241m.\u001b[39mfc(x)\n\u001b[0;32m     69\u001b[0m x \u001b[38;5;241m=\u001b[39m \u001b[38;5;28mself\u001b[39m\u001b[38;5;241m.\u001b[39mrearrange(x)\n",
      "File \u001b[1;32mc:\\Users\\damig\\anaconda3\\envs\\pracownia_naukowa\\lib\\site-packages\\torch\\nn\\modules\\module.py:1518\u001b[0m, in \u001b[0;36mModule._wrapped_call_impl\u001b[1;34m(self, *args, **kwargs)\u001b[0m\n\u001b[0;32m   1516\u001b[0m     \u001b[38;5;28;01mreturn\u001b[39;00m \u001b[38;5;28mself\u001b[39m\u001b[38;5;241m.\u001b[39m_compiled_call_impl(\u001b[38;5;241m*\u001b[39margs, \u001b[38;5;241m*\u001b[39m\u001b[38;5;241m*\u001b[39mkwargs)  \u001b[38;5;66;03m# type: ignore[misc]\u001b[39;00m\n\u001b[0;32m   1517\u001b[0m \u001b[38;5;28;01melse\u001b[39;00m:\n\u001b[1;32m-> 1518\u001b[0m     \u001b[38;5;28;01mreturn\u001b[39;00m \u001b[38;5;28mself\u001b[39m\u001b[38;5;241m.\u001b[39m_call_impl(\u001b[38;5;241m*\u001b[39margs, \u001b[38;5;241m*\u001b[39m\u001b[38;5;241m*\u001b[39mkwargs)\n",
      "File \u001b[1;32mc:\\Users\\damig\\anaconda3\\envs\\pracownia_naukowa\\lib\\site-packages\\torch\\nn\\modules\\module.py:1527\u001b[0m, in \u001b[0;36mModule._call_impl\u001b[1;34m(self, *args, **kwargs)\u001b[0m\n\u001b[0;32m   1522\u001b[0m \u001b[38;5;66;03m# If we don't have any hooks, we want to skip the rest of the logic in\u001b[39;00m\n\u001b[0;32m   1523\u001b[0m \u001b[38;5;66;03m# this function, and just call forward.\u001b[39;00m\n\u001b[0;32m   1524\u001b[0m \u001b[38;5;28;01mif\u001b[39;00m \u001b[38;5;129;01mnot\u001b[39;00m (\u001b[38;5;28mself\u001b[39m\u001b[38;5;241m.\u001b[39m_backward_hooks \u001b[38;5;129;01mor\u001b[39;00m \u001b[38;5;28mself\u001b[39m\u001b[38;5;241m.\u001b[39m_backward_pre_hooks \u001b[38;5;129;01mor\u001b[39;00m \u001b[38;5;28mself\u001b[39m\u001b[38;5;241m.\u001b[39m_forward_hooks \u001b[38;5;129;01mor\u001b[39;00m \u001b[38;5;28mself\u001b[39m\u001b[38;5;241m.\u001b[39m_forward_pre_hooks\n\u001b[0;32m   1525\u001b[0m         \u001b[38;5;129;01mor\u001b[39;00m _global_backward_pre_hooks \u001b[38;5;129;01mor\u001b[39;00m _global_backward_hooks\n\u001b[0;32m   1526\u001b[0m         \u001b[38;5;129;01mor\u001b[39;00m _global_forward_hooks \u001b[38;5;129;01mor\u001b[39;00m _global_forward_pre_hooks):\n\u001b[1;32m-> 1527\u001b[0m     \u001b[38;5;28;01mreturn\u001b[39;00m forward_call(\u001b[38;5;241m*\u001b[39margs, \u001b[38;5;241m*\u001b[39m\u001b[38;5;241m*\u001b[39mkwargs)\n\u001b[0;32m   1529\u001b[0m \u001b[38;5;28;01mtry\u001b[39;00m:\n\u001b[0;32m   1530\u001b[0m     result \u001b[38;5;241m=\u001b[39m \u001b[38;5;28;01mNone\u001b[39;00m\n",
      "File \u001b[1;32mc:\\Users\\damig\\pracownia_naukowa\\modules\\layers.py:177\u001b[0m, in \u001b[0;36mViTDecoderLayer.forward\u001b[1;34m(self, x, memory, mask)\u001b[0m\n\u001b[0;32m    175\u001b[0m \u001b[38;5;28;01mdef\u001b[39;00m \u001b[38;5;21mforward\u001b[39m(\u001b[38;5;28mself\u001b[39m, x, memory, mask\u001b[38;5;241m=\u001b[39m\u001b[38;5;28;01mNone\u001b[39;00m):\n\u001b[0;32m    176\u001b[0m     \u001b[38;5;66;03m# Multi-head self-attention\u001b[39;00m\n\u001b[1;32m--> 177\u001b[0m     attn_output \u001b[38;5;241m=\u001b[39m \u001b[38;5;28;43mself\u001b[39;49m\u001b[38;5;241;43m.\u001b[39;49m\u001b[43mself_attention\u001b[49m\u001b[43m(\u001b[49m\u001b[43mx\u001b[49m\u001b[43m,\u001b[49m\u001b[43m \u001b[49m\u001b[43mx\u001b[49m\u001b[43m,\u001b[49m\u001b[43m \u001b[49m\u001b[43mx\u001b[49m\u001b[43m,\u001b[49m\u001b[43m \u001b[49m\u001b[43mmask\u001b[49m\u001b[43m)\u001b[49m\n\u001b[0;32m    178\u001b[0m     x \u001b[38;5;241m=\u001b[39m x \u001b[38;5;241m+\u001b[39m \u001b[38;5;28mself\u001b[39m\u001b[38;5;241m.\u001b[39mdropout(attn_output)\n\u001b[0;32m    179\u001b[0m     x \u001b[38;5;241m=\u001b[39m \u001b[38;5;28mself\u001b[39m\u001b[38;5;241m.\u001b[39mnorm1(x)\n",
      "File \u001b[1;32mc:\\Users\\damig\\anaconda3\\envs\\pracownia_naukowa\\lib\\site-packages\\torch\\nn\\modules\\module.py:1518\u001b[0m, in \u001b[0;36mModule._wrapped_call_impl\u001b[1;34m(self, *args, **kwargs)\u001b[0m\n\u001b[0;32m   1516\u001b[0m     \u001b[38;5;28;01mreturn\u001b[39;00m \u001b[38;5;28mself\u001b[39m\u001b[38;5;241m.\u001b[39m_compiled_call_impl(\u001b[38;5;241m*\u001b[39margs, \u001b[38;5;241m*\u001b[39m\u001b[38;5;241m*\u001b[39mkwargs)  \u001b[38;5;66;03m# type: ignore[misc]\u001b[39;00m\n\u001b[0;32m   1517\u001b[0m \u001b[38;5;28;01melse\u001b[39;00m:\n\u001b[1;32m-> 1518\u001b[0m     \u001b[38;5;28;01mreturn\u001b[39;00m \u001b[38;5;28mself\u001b[39m\u001b[38;5;241m.\u001b[39m_call_impl(\u001b[38;5;241m*\u001b[39margs, \u001b[38;5;241m*\u001b[39m\u001b[38;5;241m*\u001b[39mkwargs)\n",
      "File \u001b[1;32mc:\\Users\\damig\\anaconda3\\envs\\pracownia_naukowa\\lib\\site-packages\\torch\\nn\\modules\\module.py:1527\u001b[0m, in \u001b[0;36mModule._call_impl\u001b[1;34m(self, *args, **kwargs)\u001b[0m\n\u001b[0;32m   1522\u001b[0m \u001b[38;5;66;03m# If we don't have any hooks, we want to skip the rest of the logic in\u001b[39;00m\n\u001b[0;32m   1523\u001b[0m \u001b[38;5;66;03m# this function, and just call forward.\u001b[39;00m\n\u001b[0;32m   1524\u001b[0m \u001b[38;5;28;01mif\u001b[39;00m \u001b[38;5;129;01mnot\u001b[39;00m (\u001b[38;5;28mself\u001b[39m\u001b[38;5;241m.\u001b[39m_backward_hooks \u001b[38;5;129;01mor\u001b[39;00m \u001b[38;5;28mself\u001b[39m\u001b[38;5;241m.\u001b[39m_backward_pre_hooks \u001b[38;5;129;01mor\u001b[39;00m \u001b[38;5;28mself\u001b[39m\u001b[38;5;241m.\u001b[39m_forward_hooks \u001b[38;5;129;01mor\u001b[39;00m \u001b[38;5;28mself\u001b[39m\u001b[38;5;241m.\u001b[39m_forward_pre_hooks\n\u001b[0;32m   1525\u001b[0m         \u001b[38;5;129;01mor\u001b[39;00m _global_backward_pre_hooks \u001b[38;5;129;01mor\u001b[39;00m _global_backward_hooks\n\u001b[0;32m   1526\u001b[0m         \u001b[38;5;129;01mor\u001b[39;00m _global_forward_hooks \u001b[38;5;129;01mor\u001b[39;00m _global_forward_pre_hooks):\n\u001b[1;32m-> 1527\u001b[0m     \u001b[38;5;28;01mreturn\u001b[39;00m forward_call(\u001b[38;5;241m*\u001b[39margs, \u001b[38;5;241m*\u001b[39m\u001b[38;5;241m*\u001b[39mkwargs)\n\u001b[0;32m   1529\u001b[0m \u001b[38;5;28;01mtry\u001b[39;00m:\n\u001b[0;32m   1530\u001b[0m     result \u001b[38;5;241m=\u001b[39m \u001b[38;5;28;01mNone\u001b[39;00m\n",
      "File \u001b[1;32mc:\\Users\\damig\\pracownia_naukowa\\modules\\layers.py:68\u001b[0m, in \u001b[0;36mMultiHeadAttention.forward\u001b[1;34m(self, Q, K, V, mask)\u001b[0m\n\u001b[0;32m     65\u001b[0m K \u001b[38;5;241m=\u001b[39m \u001b[38;5;28mself\u001b[39m\u001b[38;5;241m.\u001b[39msplit_heads(\u001b[38;5;28mself\u001b[39m\u001b[38;5;241m.\u001b[39mW_k(K))\n\u001b[0;32m     66\u001b[0m V \u001b[38;5;241m=\u001b[39m \u001b[38;5;28mself\u001b[39m\u001b[38;5;241m.\u001b[39msplit_heads(\u001b[38;5;28mself\u001b[39m\u001b[38;5;241m.\u001b[39mW_v(V))\n\u001b[1;32m---> 68\u001b[0m attn_output \u001b[38;5;241m=\u001b[39m \u001b[38;5;28;43mself\u001b[39;49m\u001b[38;5;241;43m.\u001b[39;49m\u001b[43mscaled_dot_product_attention\u001b[49m\u001b[43m(\u001b[49m\u001b[43mQ\u001b[49m\u001b[43m,\u001b[49m\u001b[43m \u001b[49m\u001b[43mK\u001b[49m\u001b[43m,\u001b[49m\u001b[43m \u001b[49m\u001b[43mV\u001b[49m\u001b[43m,\u001b[49m\u001b[43m \u001b[49m\u001b[43mmask\u001b[49m\u001b[43m)\u001b[49m\n\u001b[0;32m     70\u001b[0m output \u001b[38;5;241m=\u001b[39m \u001b[38;5;28mself\u001b[39m\u001b[38;5;241m.\u001b[39mW_o(\u001b[38;5;28mself\u001b[39m\u001b[38;5;241m.\u001b[39mcombine_heads(attn_output))\n\u001b[0;32m     71\u001b[0m \u001b[38;5;28;01mreturn\u001b[39;00m output\n",
      "File \u001b[1;32mc:\\Users\\damig\\pracownia_naukowa\\modules\\layers.py:48\u001b[0m, in \u001b[0;36mMultiHeadAttention.scaled_dot_product_attention\u001b[1;34m(self, Q, K, V, mask)\u001b[0m\n\u001b[0;32m     45\u001b[0m attn_scores \u001b[38;5;241m=\u001b[39m torch\u001b[38;5;241m.\u001b[39mmatmul(Q, K\u001b[38;5;241m.\u001b[39mtranspose(\u001b[38;5;241m-\u001b[39m\u001b[38;5;241m2\u001b[39m, \u001b[38;5;241m-\u001b[39m\u001b[38;5;241m1\u001b[39m)) \u001b[38;5;241m/\u001b[39m math\u001b[38;5;241m.\u001b[39msqrt(\u001b[38;5;28mself\u001b[39m\u001b[38;5;241m.\u001b[39md_k)\n\u001b[0;32m     47\u001b[0m \u001b[38;5;28;01mif\u001b[39;00m mask \u001b[38;5;129;01mis\u001b[39;00m \u001b[38;5;129;01mnot\u001b[39;00m \u001b[38;5;28;01mNone\u001b[39;00m:\n\u001b[1;32m---> 48\u001b[0m     attn_scores \u001b[38;5;241m=\u001b[39m \u001b[43mattn_scores\u001b[49m\u001b[38;5;241;43m.\u001b[39;49m\u001b[43mmasked_fill\u001b[49m\u001b[43m(\u001b[49m\u001b[43mmask\u001b[49m\u001b[43m \u001b[49m\u001b[38;5;241;43m==\u001b[39;49m\u001b[43m \u001b[49m\u001b[38;5;241;43m0\u001b[39;49m\u001b[43m,\u001b[49m\u001b[43m \u001b[49m\u001b[38;5;241;43m-\u001b[39;49m\u001b[38;5;241;43m1e9\u001b[39;49m\u001b[43m)\u001b[49m\n\u001b[0;32m     50\u001b[0m attn_probs \u001b[38;5;241m=\u001b[39m torch\u001b[38;5;241m.\u001b[39msoftmax(attn_scores, dim\u001b[38;5;241m=\u001b[39m\u001b[38;5;241m-\u001b[39m\u001b[38;5;241m1\u001b[39m)\n\u001b[0;32m     52\u001b[0m output \u001b[38;5;241m=\u001b[39m torch\u001b[38;5;241m.\u001b[39mmatmul(attn_probs, V)\n",
      "\u001b[1;31mRuntimeError\u001b[0m: The size of tensor a (28) must match the size of tensor b (4) at non-singleton dimension 3"
     ]
    }
   ],
   "source": [
    "# Training loop\n",
    "num_epochs = 10\n",
    "\n",
    "for epoch in range(num_epochs):\n",
    "    vit_mnist_gen.train()\n",
    "    total_loss = 0.0\n",
    "\n",
    "    for batch_idx, (data, _) in enumerate(train_loader):  # No labels needed for generative task\n",
    "        data = data.to('cuda')\n",
    "\n",
    "        # Create a mask for the input image (you may customize this based on your requirements)\n",
    "        # mask = torch.rand_like(data) > 0.5  # Example: Randomly mask pixels\n",
    "        mask = torch.ones_like(data)\n",
    "        mask[:, :, :14, :14] = 0\n",
    "\n",
    "        # Zero the gradients\n",
    "        optimizer.zero_grad()\n",
    "\n",
    "        # Forward pass\n",
    "        output = vit_mnist_gen(data, mask=mask)\n",
    "\n",
    "        # Calculate loss\n",
    "        loss = criterion(output, data)\n",
    "\n",
    "        # Backward pass\n",
    "        loss.backward()\n",
    "\n",
    "        # Update weights\n",
    "        optimizer.step()\n",
    "\n",
    "        total_loss += loss.item()\n",
    "\n",
    "        if (batch_idx + 1) % 100 == 0:\n",
    "            print(f'Epoch {epoch + 1}/{num_epochs}, Batch {batch_idx + 1}/{len(train_loader)}, Loss: {total_loss / 100:.4f}')\n",
    "            total_loss = 0.0\n",
    "\n",
    "    # Validation\n",
    "    vit_mnist_gen.eval()\n",
    "    total_loss = 0.0\n",
    "\n",
    "    with torch.no_grad():\n",
    "        for batch_idx, (data, _) in enumerate(test_loader):  # No labels needed for generative task\n",
    "            data = data.to('cuda')\n",
    "\n",
    "            # Create a mask for the input image (you may customize this based on your requirements)\n",
    "            mask = torch.rand_like(data) > 0.5  # Example: Randomly mask pixels\n",
    "\n",
    "            # Forward pass\n",
    "            output = vit_mnist_gen(data, mask=mask)\n",
    "\n",
    "            # Calculate loss\n",
    "            loss = criterion(output, data)\n",
    "\n",
    "            total_loss += loss.item()\n",
    "\n",
    "    average_loss = total_loss / len(test_loader)\n",
    "    print(f'Epoch {epoch + 1}/{num_epochs}, Validation Loss: {average_loss:.4f}')\n",
    "\n",
    "print(\"Training finished.\")\n"
   ]
  }
 ],
 "metadata": {
  "kernelspec": {
   "display_name": "Python 3",
   "language": "python",
   "name": "python3"
  },
  "language_info": {
   "codemirror_mode": {
    "name": "ipython",
    "version": 3
   },
   "file_extension": ".py",
   "mimetype": "text/x-python",
   "name": "python",
   "nbconvert_exporter": "python",
   "pygments_lexer": "ipython3",
   "version": "3.10.13"
  }
 },
 "nbformat": 4,
 "nbformat_minor": 0
}
