{
 "cells": [
  {
   "cell_type": "code",
   "execution_count": 1,
   "metadata": {
    "collapsed": true
   },
   "outputs": [],
   "source": [
    "from modules.vit import ViT\n",
    "from torchinfo import summary"
   ]
  },
  {
   "cell_type": "code",
   "execution_count": 2,
   "metadata": {},
   "outputs": [],
   "source": [
    "from modules.layers import *\n",
    "\n",
    "from modules.patch_embedding import *"
   ]
  },
  {
   "cell_type": "code",
   "execution_count": 5,
   "metadata": {
    "collapsed": false,
    "pycharm": {
     "name": "#%%\n"
    }
   },
   "outputs": [
    {
     "name": "stderr",
     "output_type": "stream",
     "text": [
      "c:\\Users\\damig\\anaconda3\\envs\\pracownia_naukowa\\lib\\site-packages\\torch\\nn\\modules\\module.py:1518: UserWarning: Implicit dimension choice for softmax has been deprecated. Change the call to include dim=X as an argument.\n",
      "  return self._call_impl(*args, **kwargs)\n"
     ]
    },
    {
     "data": {
      "text/plain": [
       "====================================================================================================\n",
       "Layer (type:depth-idx)                             Output Shape              Param #\n",
       "====================================================================================================\n",
       "ViT                                                [16, 10]                  2,112\n",
       "├─PatchEmbedding: 1-1                              [16, 64, 32]              --\n",
       "│    └─Sequential: 2-1                             [16, 64, 32]              --\n",
       "│    │    └─Rearrange: 3-1                         [16, 64, 48]              --\n",
       "│    │    └─Linear: 3-2                            [16, 64, 32]              1,568\n",
       "├─ModuleList: 1-2                                  --                        --\n",
       "│    └─EncoderLayer: 2-2                           [16, 65, 32]              --\n",
       "│    │    └─MultiHeadSelfAttentionBlock: 3-3       [16, 65, 32]              4,288\n",
       "│    │    └─Dropout: 3-4                           [16, 65, 32]              --\n",
       "│    │    └─LayerNorm: 3-5                         [16, 65, 32]              64\n",
       "│    │    └─FeedForward: 3-6                       [16, 65, 32]              2,112\n",
       "│    │    └─Dropout: 3-7                           [16, 65, 32]              --\n",
       "│    │    └─LayerNorm: 3-8                         [16, 65, 32]              64\n",
       "│    └─EncoderLayer: 2-3                           [16, 65, 32]              --\n",
       "│    │    └─MultiHeadSelfAttentionBlock: 3-9       [16, 65, 32]              4,288\n",
       "│    │    └─Dropout: 3-10                          [16, 65, 32]              --\n",
       "│    │    └─LayerNorm: 3-11                        [16, 65, 32]              64\n",
       "│    │    └─FeedForward: 3-12                      [16, 65, 32]              2,112\n",
       "│    │    └─Dropout: 3-13                          [16, 65, 32]              --\n",
       "│    │    └─LayerNorm: 3-14                        [16, 65, 32]              64\n",
       "│    └─EncoderLayer: 2-4                           [16, 65, 32]              --\n",
       "│    │    └─MultiHeadSelfAttentionBlock: 3-15      [16, 65, 32]              4,288\n",
       "│    │    └─Dropout: 3-16                          [16, 65, 32]              --\n",
       "│    │    └─LayerNorm: 3-17                        [16, 65, 32]              64\n",
       "│    │    └─FeedForward: 3-18                      [16, 65, 32]              2,112\n",
       "│    │    └─Dropout: 3-19                          [16, 65, 32]              --\n",
       "│    │    └─LayerNorm: 3-20                        [16, 65, 32]              64\n",
       "│    └─EncoderLayer: 2-5                           [16, 65, 32]              --\n",
       "│    │    └─MultiHeadSelfAttentionBlock: 3-21      [16, 65, 32]              4,288\n",
       "│    │    └─Dropout: 3-22                          [16, 65, 32]              --\n",
       "│    │    └─LayerNorm: 3-23                        [16, 65, 32]              64\n",
       "│    │    └─FeedForward: 3-24                      [16, 65, 32]              2,112\n",
       "│    │    └─Dropout: 3-25                          [16, 65, 32]              --\n",
       "│    │    └─LayerNorm: 3-26                        [16, 65, 32]              64\n",
       "│    └─EncoderLayer: 2-6                           [16, 65, 32]              --\n",
       "│    │    └─MultiHeadSelfAttentionBlock: 3-27      [16, 65, 32]              4,288\n",
       "│    │    └─Dropout: 3-28                          [16, 65, 32]              --\n",
       "│    │    └─LayerNorm: 3-29                        [16, 65, 32]              64\n",
       "│    │    └─FeedForward: 3-30                      [16, 65, 32]              2,112\n",
       "│    │    └─Dropout: 3-31                          [16, 65, 32]              --\n",
       "│    │    └─LayerNorm: 3-32                        [16, 65, 32]              64\n",
       "│    └─EncoderLayer: 2-7                           [16, 65, 32]              --\n",
       "│    │    └─MultiHeadSelfAttentionBlock: 3-33      [16, 65, 32]              4,288\n",
       "│    │    └─Dropout: 3-34                          [16, 65, 32]              --\n",
       "│    │    └─LayerNorm: 3-35                        [16, 65, 32]              64\n",
       "│    │    └─FeedForward: 3-36                      [16, 65, 32]              2,112\n",
       "│    │    └─Dropout: 3-37                          [16, 65, 32]              --\n",
       "│    │    └─LayerNorm: 3-38                        [16, 65, 32]              64\n",
       "├─Sequential: 1-3                                  [16, 10]                  --\n",
       "│    └─LayerNorm: 2-8                              [16, 32]                  64\n",
       "│    └─Linear: 2-9                                 [16, 10]                  330\n",
       "│    └─Softmax: 2-10                               [16, 10]                  --\n",
       "====================================================================================================\n",
       "Total params: 43,242\n",
       "Trainable params: 43,242\n",
       "Non-trainable params: 0\n",
       "Total mult-adds (M): 0.25\n",
       "====================================================================================================\n",
       "Input size (MB): 0.20\n",
       "Forward/backward pass size (MB): 8.25\n",
       "Params size (MB): 0.06\n",
       "Estimated Total Size (MB): 8.51\n",
       "===================================================================================================="
      ]
     },
     "execution_count": 5,
     "metadata": {},
     "output_type": "execute_result"
    }
   ],
   "source": [
    "vit = ViT(ch=3, img_size=32, out_dim=10, heads=4)\n",
    "\n",
    "batch_size = 16\n",
    "\n",
    "summary(vit, input_size=(batch_size, 3, 32, 32))"
   ]
  },
  {
   "cell_type": "code",
   "execution_count": 6,
   "metadata": {},
   "outputs": [
    {
     "name": "stdout",
     "output_type": "stream",
     "text": [
      "Files already downloaded and verified\n",
      "Files already downloaded and verified\n"
     ]
    }
   ],
   "source": [
    "import torchvision.transforms as transforms\n",
    "from torchvision.datasets import CIFAR10\n",
    "from torchvision.transforms import ToTensor\n",
    "from torch.nn.functional import one_hot\n",
    "\n",
    "transform = transforms.Compose(\n",
    "    [transforms.ToTensor(),\n",
    "     transforms.Normalize((0.5, 0.5, 0.5), (0.5, 0.5, 0.5))])\n",
    "\n",
    "cifar10_data_train = CIFAR10(\"dataset/\", train = True, download=True, transform=transform)\n",
    "cifar10_data_test = CIFAR10(\"dataset/\",train = False, download=True, transform=transform)\n",
    "\n",
    "train_data_loader = torch.utils.data.DataLoader(cifar10_data_train,\n",
    "                                          batch_size=16,\n",
    "                                          shuffle=True,\n",
    "                                          num_workers=8,\n",
    "                                          )\n",
    "\n",
    "\n",
    "test_data_loader = torch.utils.data.DataLoader(cifar10_data_test,\n",
    "                                          batch_size=16,\n",
    "                                          shuffle=True,\n",
    "                                          num_workers=8,\n",
    "                                          )                                        "
   ]
  },
  {
   "cell_type": "code",
   "execution_count": 7,
   "metadata": {},
   "outputs": [],
   "source": [
    "from torch.optim import Adam\n",
    "criterion = torch.nn.CrossEntropyLoss()\n",
    "# optimizer = Adam(vit.parameters())\n",
    "optimizer = torch.optim.SGD(vit.parameters(), lr=0.001, momentum=0.9)"
   ]
  },
  {
   "cell_type": "code",
   "execution_count": 8,
   "metadata": {},
   "outputs": [
    {
     "name": "stdout",
     "output_type": "stream",
     "text": [
      "torch.Size([16, 3, 32, 32]) torch.Size([16])\n"
     ]
    }
   ],
   "source": [
    "for x, y in train_data_loader:\n",
    "    print(x.shape, y.shape)\n",
    "    break"
   ]
  },
  {
   "cell_type": "code",
   "execution_count": 9,
   "metadata": {},
   "outputs": [
    {
     "name": "stderr",
     "output_type": "stream",
     "text": [
      "Epoch...0/50:   0%|          | 0/3125 [00:44<?, ?batch/s]c:\\Users\\damig\\anaconda3\\envs\\pracownia_naukowa\\lib\\site-packages\\torch\\nn\\modules\\module.py:1518: UserWarning: Implicit dimension choice for softmax has been deprecated. Change the call to include dim=X as an argument.\n",
      "  return self._call_impl(*args, **kwargs)\n",
      "Epoch...0/50: 100%|██████████| 3125/3125 [02:04<00:00, 25.17batch/s, loss=2.28]\n"
     ]
    },
    {
     "name": "stdout",
     "output_type": "stream",
     "text": [
      "Epoch 1/50, Train Loss: 2.2795, Validation Loss: 2.2480\n"
     ]
    },
    {
     "name": "stderr",
     "output_type": "stream",
     "text": [
      "Epoch...1/50: 100%|██████████| 3125/3125 [02:05<00:00, 24.89batch/s, loss=2.24]\n"
     ]
    },
    {
     "name": "stdout",
     "output_type": "stream",
     "text": [
      "Epoch 2/50, Train Loss: 2.2395, Validation Loss: 2.2225\n"
     ]
    },
    {
     "name": "stderr",
     "output_type": "stream",
     "text": [
      "Epoch...2/50: 100%|██████████| 3125/3125 [02:11<00:00, 23.72batch/s, loss=2.22]\n"
     ]
    },
    {
     "name": "stdout",
     "output_type": "stream",
     "text": [
      "Epoch 3/50, Train Loss: 2.2180, Validation Loss: 2.1994\n"
     ]
    },
    {
     "name": "stderr",
     "output_type": "stream",
     "text": [
      "Epoch...3/50: 100%|██████████| 3125/3125 [02:05<00:00, 24.93batch/s, loss=2.2] \n"
     ]
    },
    {
     "name": "stdout",
     "output_type": "stream",
     "text": [
      "Epoch 4/50, Train Loss: 2.1955, Validation Loss: 2.1834\n"
     ]
    },
    {
     "name": "stderr",
     "output_type": "stream",
     "text": [
      "Epoch...4/50: 100%|██████████| 3125/3125 [02:07<00:00, 24.59batch/s, loss=2.18]\n"
     ]
    },
    {
     "name": "stdout",
     "output_type": "stream",
     "text": [
      "Epoch 5/50, Train Loss: 2.1797, Validation Loss: 2.1675\n"
     ]
    },
    {
     "name": "stderr",
     "output_type": "stream",
     "text": [
      "Epoch...5/50: 100%|██████████| 3125/3125 [02:05<00:00, 24.81batch/s, loss=2.16]\n"
     ]
    },
    {
     "name": "stdout",
     "output_type": "stream",
     "text": [
      "Epoch 6/50, Train Loss: 2.1644, Validation Loss: 2.1440\n"
     ]
    },
    {
     "name": "stderr",
     "output_type": "stream",
     "text": [
      "Epoch...6/50: 100%|██████████| 3125/3125 [02:07<00:00, 24.59batch/s, loss=2.15]\n"
     ]
    },
    {
     "name": "stdout",
     "output_type": "stream",
     "text": [
      "Epoch 7/50, Train Loss: 2.1483, Validation Loss: 2.1288\n"
     ]
    },
    {
     "name": "stderr",
     "output_type": "stream",
     "text": [
      "Epoch...7/50: 100%|██████████| 3125/3125 [02:06<00:00, 24.74batch/s, loss=2.13]\n"
     ]
    },
    {
     "name": "stdout",
     "output_type": "stream",
     "text": [
      "Epoch 8/50, Train Loss: 2.1331, Validation Loss: 2.1117\n"
     ]
    },
    {
     "name": "stderr",
     "output_type": "stream",
     "text": [
      "Epoch...8/50: 100%|██████████| 3125/3125 [02:04<00:00, 25.17batch/s, loss=2.12]\n"
     ]
    },
    {
     "name": "stdout",
     "output_type": "stream",
     "text": [
      "Epoch 9/50, Train Loss: 2.1195, Validation Loss: 2.1011\n"
     ]
    },
    {
     "name": "stderr",
     "output_type": "stream",
     "text": [
      "Epoch...9/50: 100%|██████████| 3125/3125 [02:06<00:00, 24.75batch/s, loss=2.11]\n"
     ]
    },
    {
     "name": "stdout",
     "output_type": "stream",
     "text": [
      "Epoch 10/50, Train Loss: 2.1061, Validation Loss: 2.0940\n"
     ]
    },
    {
     "name": "stderr",
     "output_type": "stream",
     "text": [
      "Epoch...10/50: 100%|██████████| 3125/3125 [02:07<00:00, 24.57batch/s, loss=2.1] \n"
     ]
    },
    {
     "name": "stdout",
     "output_type": "stream",
     "text": [
      "Epoch 11/50, Train Loss: 2.0962, Validation Loss: 2.0819\n"
     ]
    },
    {
     "name": "stderr",
     "output_type": "stream",
     "text": [
      "Epoch...11/50: 100%|██████████| 3125/3125 [02:04<00:00, 25.19batch/s, loss=2.09]\n"
     ]
    },
    {
     "name": "stdout",
     "output_type": "stream",
     "text": [
      "Epoch 12/50, Train Loss: 2.0861, Validation Loss: 2.0755\n"
     ]
    },
    {
     "name": "stderr",
     "output_type": "stream",
     "text": [
      "Epoch...12/50: 100%|██████████| 3125/3125 [02:03<00:00, 25.24batch/s, loss=2.08]\n"
     ]
    },
    {
     "name": "stdout",
     "output_type": "stream",
     "text": [
      "Epoch 13/50, Train Loss: 2.0789, Validation Loss: 2.0639\n"
     ]
    },
    {
     "name": "stderr",
     "output_type": "stream",
     "text": [
      "Epoch...13/50: 100%|██████████| 3125/3125 [02:05<00:00, 24.90batch/s, loss=2.07]\n"
     ]
    },
    {
     "name": "stdout",
     "output_type": "stream",
     "text": [
      "Epoch 14/50, Train Loss: 2.0735, Validation Loss: 2.0620\n"
     ]
    },
    {
     "name": "stderr",
     "output_type": "stream",
     "text": [
      "Epoch...14/50: 100%|██████████| 3125/3125 [02:05<00:00, 24.91batch/s, loss=2.07]\n"
     ]
    },
    {
     "name": "stdout",
     "output_type": "stream",
     "text": [
      "Epoch 15/50, Train Loss: 2.0658, Validation Loss: 2.0539\n"
     ]
    },
    {
     "name": "stderr",
     "output_type": "stream",
     "text": [
      "Epoch...15/50: 100%|██████████| 3125/3125 [02:02<00:00, 25.46batch/s, loss=2.06]\n"
     ]
    },
    {
     "name": "stdout",
     "output_type": "stream",
     "text": [
      "Epoch 16/50, Train Loss: 2.0599, Validation Loss: 2.0484\n"
     ]
    },
    {
     "name": "stderr",
     "output_type": "stream",
     "text": [
      "Epoch...16/50: 100%|██████████| 3125/3125 [02:03<00:00, 25.36batch/s, loss=2.05]\n"
     ]
    },
    {
     "name": "stdout",
     "output_type": "stream",
     "text": [
      "Epoch 17/50, Train Loss: 2.0525, Validation Loss: 2.0404\n"
     ]
    },
    {
     "name": "stderr",
     "output_type": "stream",
     "text": [
      "Epoch...17/50: 100%|██████████| 3125/3125 [02:04<00:00, 25.06batch/s, loss=2.05]\n"
     ]
    },
    {
     "name": "stdout",
     "output_type": "stream",
     "text": [
      "Epoch 18/50, Train Loss: 2.0458, Validation Loss: 2.0350\n"
     ]
    },
    {
     "name": "stderr",
     "output_type": "stream",
     "text": [
      "Epoch...18/50: 100%|██████████| 3125/3125 [02:02<00:00, 25.57batch/s, loss=2.04]\n"
     ]
    },
    {
     "name": "stdout",
     "output_type": "stream",
     "text": [
      "Epoch 19/50, Train Loss: 2.0403, Validation Loss: 2.0260\n"
     ]
    },
    {
     "name": "stderr",
     "output_type": "stream",
     "text": [
      "Epoch...19/50: 100%|██████████| 3125/3125 [02:00<00:00, 25.90batch/s, loss=2.03]\n"
     ]
    },
    {
     "name": "stdout",
     "output_type": "stream",
     "text": [
      "Epoch 20/50, Train Loss: 2.0299, Validation Loss: 2.0113\n"
     ]
    },
    {
     "name": "stderr",
     "output_type": "stream",
     "text": [
      "Epoch...20/50: 100%|██████████| 3125/3125 [02:00<00:00, 25.94batch/s, loss=2.02]\n"
     ]
    },
    {
     "name": "stdout",
     "output_type": "stream",
     "text": [
      "Epoch 21/50, Train Loss: 2.0225, Validation Loss: 2.0105\n"
     ]
    },
    {
     "name": "stderr",
     "output_type": "stream",
     "text": [
      "Epoch...21/50: 100%|██████████| 3125/3125 [02:02<00:00, 25.42batch/s, loss=2.02]\n"
     ]
    },
    {
     "name": "stdout",
     "output_type": "stream",
     "text": [
      "Epoch 22/50, Train Loss: 2.0166, Validation Loss: 2.0018\n"
     ]
    },
    {
     "name": "stderr",
     "output_type": "stream",
     "text": [
      "Epoch...22/50: 100%|██████████| 3125/3125 [02:00<00:00, 25.89batch/s, loss=2.01]\n"
     ]
    },
    {
     "name": "stdout",
     "output_type": "stream",
     "text": [
      "Epoch 23/50, Train Loss: 2.0105, Validation Loss: 2.0036\n"
     ]
    },
    {
     "name": "stderr",
     "output_type": "stream",
     "text": [
      "Epoch...23/50: 100%|██████████| 3125/3125 [02:01<00:00, 25.76batch/s, loss=2]   \n"
     ]
    },
    {
     "name": "stdout",
     "output_type": "stream",
     "text": [
      "Epoch 24/50, Train Loss: 2.0025, Validation Loss: 1.9910\n"
     ]
    },
    {
     "name": "stderr",
     "output_type": "stream",
     "text": [
      "Epoch...24/50: 100%|██████████| 3125/3125 [02:00<00:00, 25.86batch/s, loss=2]   \n"
     ]
    },
    {
     "name": "stdout",
     "output_type": "stream",
     "text": [
      "Epoch 25/50, Train Loss: 1.9963, Validation Loss: 1.9851\n"
     ]
    },
    {
     "name": "stderr",
     "output_type": "stream",
     "text": [
      "Epoch...25/50: 100%|██████████| 3125/3125 [01:59<00:00, 26.12batch/s, loss=1.99]\n"
     ]
    },
    {
     "name": "stdout",
     "output_type": "stream",
     "text": [
      "Epoch 26/50, Train Loss: 1.9904, Validation Loss: 1.9831\n"
     ]
    },
    {
     "name": "stderr",
     "output_type": "stream",
     "text": [
      "Epoch...26/50: 100%|██████████| 3125/3125 [01:59<00:00, 26.17batch/s, loss=1.99]\n"
     ]
    },
    {
     "name": "stdout",
     "output_type": "stream",
     "text": [
      "Epoch 27/50, Train Loss: 1.9860, Validation Loss: 1.9750\n"
     ]
    },
    {
     "name": "stderr",
     "output_type": "stream",
     "text": [
      "Epoch...27/50: 100%|██████████| 3125/3125 [01:59<00:00, 26.09batch/s, loss=1.98]\n"
     ]
    },
    {
     "name": "stdout",
     "output_type": "stream",
     "text": [
      "Epoch 28/50, Train Loss: 1.9798, Validation Loss: 1.9767\n"
     ]
    },
    {
     "name": "stderr",
     "output_type": "stream",
     "text": [
      "Epoch...28/50: 100%|██████████| 3125/3125 [02:00<00:00, 25.96batch/s, loss=1.98]\n"
     ]
    },
    {
     "name": "stdout",
     "output_type": "stream",
     "text": [
      "Epoch 29/50, Train Loss: 1.9758, Validation Loss: 1.9697\n"
     ]
    },
    {
     "name": "stderr",
     "output_type": "stream",
     "text": [
      "Epoch...29/50: 100%|██████████| 3125/3125 [01:59<00:00, 26.04batch/s, loss=1.97]\n"
     ]
    },
    {
     "name": "stdout",
     "output_type": "stream",
     "text": [
      "Epoch 30/50, Train Loss: 1.9708, Validation Loss: 1.9648\n"
     ]
    },
    {
     "name": "stderr",
     "output_type": "stream",
     "text": [
      "Epoch...30/50: 100%|██████████| 3125/3125 [01:59<00:00, 26.22batch/s, loss=1.97]\n"
     ]
    },
    {
     "name": "stdout",
     "output_type": "stream",
     "text": [
      "Epoch 31/50, Train Loss: 1.9682, Validation Loss: 1.9647\n"
     ]
    },
    {
     "name": "stderr",
     "output_type": "stream",
     "text": [
      "Epoch...31/50: 100%|██████████| 3125/3125 [01:59<00:00, 26.13batch/s, loss=1.96]\n"
     ]
    },
    {
     "name": "stdout",
     "output_type": "stream",
     "text": [
      "Epoch 32/50, Train Loss: 1.9640, Validation Loss: 1.9627\n"
     ]
    },
    {
     "name": "stderr",
     "output_type": "stream",
     "text": [
      "Epoch...32/50: 100%|██████████| 3125/3125 [01:59<00:00, 26.20batch/s, loss=1.96]\n"
     ]
    },
    {
     "name": "stdout",
     "output_type": "stream",
     "text": [
      "Epoch 33/50, Train Loss: 1.9603, Validation Loss: 1.9633\n"
     ]
    },
    {
     "name": "stderr",
     "output_type": "stream",
     "text": [
      "Epoch...33/50: 100%|██████████| 3125/3125 [01:59<00:00, 26.14batch/s, loss=1.96]\n"
     ]
    },
    {
     "name": "stdout",
     "output_type": "stream",
     "text": [
      "Epoch 34/50, Train Loss: 1.9572, Validation Loss: 1.9661\n"
     ]
    },
    {
     "name": "stderr",
     "output_type": "stream",
     "text": [
      "Epoch...34/50: 100%|██████████| 3125/3125 [01:59<00:00, 26.05batch/s, loss=1.95]\n"
     ]
    },
    {
     "name": "stdout",
     "output_type": "stream",
     "text": [
      "Epoch 35/50, Train Loss: 1.9543, Validation Loss: 1.9565\n"
     ]
    },
    {
     "name": "stderr",
     "output_type": "stream",
     "text": [
      "Epoch...35/50: 100%|██████████| 3125/3125 [02:01<00:00, 25.73batch/s, loss=1.95]\n"
     ]
    },
    {
     "name": "stdout",
     "output_type": "stream",
     "text": [
      "Epoch 36/50, Train Loss: 1.9498, Validation Loss: 1.9530\n"
     ]
    },
    {
     "name": "stderr",
     "output_type": "stream",
     "text": [
      "Epoch...36/50: 100%|██████████| 3125/3125 [02:01<00:00, 25.80batch/s, loss=1.95]\n"
     ]
    },
    {
     "name": "stdout",
     "output_type": "stream",
     "text": [
      "Epoch 37/50, Train Loss: 1.9477, Validation Loss: 1.9593\n"
     ]
    },
    {
     "name": "stderr",
     "output_type": "stream",
     "text": [
      "Epoch...37/50: 100%|██████████| 3125/3125 [02:00<00:00, 25.98batch/s, loss=1.94]\n"
     ]
    },
    {
     "name": "stdout",
     "output_type": "stream",
     "text": [
      "Epoch 38/50, Train Loss: 1.9439, Validation Loss: 1.9521\n"
     ]
    },
    {
     "name": "stderr",
     "output_type": "stream",
     "text": [
      "Epoch...38/50: 100%|██████████| 3125/3125 [01:59<00:00, 26.10batch/s, loss=1.94]\n"
     ]
    },
    {
     "name": "stdout",
     "output_type": "stream",
     "text": [
      "Epoch 39/50, Train Loss: 1.9412, Validation Loss: 1.9541\n"
     ]
    },
    {
     "name": "stderr",
     "output_type": "stream",
     "text": [
      "Epoch...39/50: 100%|██████████| 3125/3125 [01:59<00:00, 26.08batch/s, loss=1.94]\n"
     ]
    },
    {
     "name": "stdout",
     "output_type": "stream",
     "text": [
      "Epoch 40/50, Train Loss: 1.9385, Validation Loss: 1.9497\n"
     ]
    },
    {
     "name": "stderr",
     "output_type": "stream",
     "text": [
      "Epoch...40/50: 100%|██████████| 3125/3125 [02:01<00:00, 25.73batch/s, loss=1.94]\n"
     ]
    },
    {
     "name": "stdout",
     "output_type": "stream",
     "text": [
      "Epoch 41/50, Train Loss: 1.9367, Validation Loss: 1.9427\n"
     ]
    },
    {
     "name": "stderr",
     "output_type": "stream",
     "text": [
      "Epoch...41/50: 100%|██████████| 3125/3125 [02:14<00:00, 23.19batch/s, loss=1.93]\n"
     ]
    },
    {
     "name": "stdout",
     "output_type": "stream",
     "text": [
      "Epoch 42/50, Train Loss: 1.9325, Validation Loss: 1.9596\n"
     ]
    },
    {
     "name": "stderr",
     "output_type": "stream",
     "text": [
      "Epoch...42/50: 100%|██████████| 3125/3125 [02:10<00:00, 23.90batch/s, loss=1.93]\n"
     ]
    },
    {
     "name": "stdout",
     "output_type": "stream",
     "text": [
      "Epoch 43/50, Train Loss: 1.9307, Validation Loss: 1.9382\n"
     ]
    },
    {
     "name": "stderr",
     "output_type": "stream",
     "text": [
      "Epoch...43/50: 100%|██████████| 3125/3125 [02:12<00:00, 23.61batch/s, loss=1.93]\n"
     ]
    },
    {
     "name": "stdout",
     "output_type": "stream",
     "text": [
      "Epoch 44/50, Train Loss: 1.9291, Validation Loss: 1.9467\n"
     ]
    },
    {
     "name": "stderr",
     "output_type": "stream",
     "text": [
      "Epoch...44/50: 100%|██████████| 3125/3125 [02:09<00:00, 24.09batch/s, loss=1.93]\n"
     ]
    },
    {
     "name": "stdout",
     "output_type": "stream",
     "text": [
      "Epoch 45/50, Train Loss: 1.9250, Validation Loss: 1.9326\n"
     ]
    },
    {
     "name": "stderr",
     "output_type": "stream",
     "text": [
      "Epoch...45/50: 100%|██████████| 3125/3125 [02:08<00:00, 24.32batch/s, loss=1.92]\n"
     ]
    },
    {
     "name": "stdout",
     "output_type": "stream",
     "text": [
      "Epoch 46/50, Train Loss: 1.9234, Validation Loss: 1.9435\n"
     ]
    },
    {
     "name": "stderr",
     "output_type": "stream",
     "text": [
      "Epoch...46/50: 100%|██████████| 3125/3125 [02:04<00:00, 25.19batch/s, loss=1.92]\n"
     ]
    },
    {
     "name": "stdout",
     "output_type": "stream",
     "text": [
      "Epoch 47/50, Train Loss: 1.9190, Validation Loss: 1.9374\n"
     ]
    },
    {
     "name": "stderr",
     "output_type": "stream",
     "text": [
      "Epoch...47/50: 100%|██████████| 3125/3125 [02:02<00:00, 25.56batch/s, loss=1.92]\n"
     ]
    },
    {
     "name": "stdout",
     "output_type": "stream",
     "text": [
      "Epoch 48/50, Train Loss: 1.9180, Validation Loss: 1.9360\n",
      "Early stopping after 48 epochs without improvement.\n"
     ]
    }
   ],
   "source": [
    "from utils.train import train\n",
    "\n",
    "train(vit, train_data_loader, test_data_loader, criterion, optimizer, 50)"
   ]
  }
 ],
 "metadata": {
  "kernelspec": {
   "display_name": "Python 3",
   "language": "python",
   "name": "python3"
  },
  "language_info": {
   "codemirror_mode": {
    "name": "ipython",
    "version": 3
   },
   "file_extension": ".py",
   "mimetype": "text/x-python",
   "name": "python",
   "nbconvert_exporter": "python",
   "pygments_lexer": "ipython3",
   "version": "3.10.13"
  }
 },
 "nbformat": 4,
 "nbformat_minor": 0
}
